{
 "cells": [
  {
   "cell_type": "code",
   "execution_count": 2,
   "metadata": {},
   "outputs": [
    {
     "name": "stderr",
     "output_type": "stream",
     "text": [
      "OMP: Info #276: omp_set_nested routine deprecated, please use omp_set_max_active_levels instead.\n"
     ]
    }
   ],
   "source": [
    "import loompy"
   ]
  },
  {
   "cell_type": "code",
   "execution_count": 3,
   "metadata": {},
   "outputs": [
    {
     "name": "stdout",
     "output_type": "stream",
     "text": [
      "Loom_Merging_All.ipynb\n",
      "P_CTRL_24W_F_01_sorted_genome_bam_UIQFT.loom\n",
      "P_CTRL_24W_F_02_sorted_genome_bam_OW37X.loom\n",
      "P_CTRL_24W_F_03_sorted_genome_bam_2F2VI.loom\n",
      "P_CTRL_24W_M_01_sorted_genome_bam_SA1MV.loom\n",
      "P_CTRL_24W_M_02_sorted_genome_bam_N13OP.loom\n",
      "P_CTRL_24W_M_03_sorted_genome_bam_M08ZH.loom\n",
      "P_CTRL_8W_F_01_sorted_genome_bam_WVKQS.loom\n",
      "P_CTRL_8W_F_02_sorted_genome_bam_MS65S.loom\n",
      "P_CTRL_8W_F_03_sorted_genome_bam_3VQ3K.loom\n",
      "P_CTRL_8W_M_01_sorted_genome_bam_MKQVV.loom\n",
      "P_CTRL_8W_M_02_sorted_genome_bam_33V25.loom\n",
      "P_CTRL_8W_M_03_sorted_genome_bam_PEPD1.loom\n",
      "P_HF_24W_F_01_sorted_genome_bam_DHUUP.loom\n",
      "P_HF_24W_F_02_sorted_genome_bam_DMKU4.loom\n",
      "P_HF_24W_F_03_sorted_genome_bam_T8GB0.loom\n",
      "P_HF_24W_M_01_sorted_genome_bam_4EOU3.loom\n",
      "P_HF_24W_M_02_sorted_genome_bam_BWQFP.loom\n",
      "P_HF_24W_M_03_sorted_genome_bam_60LDI.loom\n",
      "P_HF_8W_F_01_sorted_genome_bam_A3LZ9.loom\n",
      "P_HF_8W_F_02_sorted_genome_bam_LJ5V2.loom\n",
      "P_HF_8W_F_03_sorted_genome_bam_N9OH6.loom\n",
      "P_HF_8W_M_01_sorted_genome_bam_K7I5G.loom\n",
      "P_HF_8W_M_02_sorted_genome_bam_O96R1.loom\n",
      "P_HF_8W_M_03_sorted_genome_bam_LDUOE.loom\n"
     ]
    }
   ],
   "source": [
    "ls"
   ]
  },
  {
   "cell_type": "code",
   "execution_count": 5,
   "metadata": {},
   "outputs": [],
   "source": [
    "files = ['P_CTRL_24W_F_01_sorted_genome_bam_UIQFT.loom',\n",
    "'P_CTRL_24W_F_02_sorted_genome_bam_OW37X.loom',\n",
    "'P_CTRL_24W_F_03_sorted_genome_bam_2F2VI.loom',\n",
    "'P_CTRL_24W_M_01_sorted_genome_bam_SA1MV.loom',\n",
    "'P_CTRL_24W_M_02_sorted_genome_bam_N13OP.loom',\n",
    "'P_CTRL_24W_M_03_sorted_genome_bam_M08ZH.loom',\n",
    "'P_CTRL_8W_F_01_sorted_genome_bam_WVKQS.loom',\n",
    "'P_CTRL_8W_F_02_sorted_genome_bam_MS65S.loom',\n",
    "'P_CTRL_8W_F_03_sorted_genome_bam_3VQ3K.loom',\n",
    "'P_CTRL_8W_M_01_sorted_genome_bam_MKQVV.loom',\n",
    "'P_CTRL_8W_M_02_sorted_genome_bam_33V25.loom',\n",
    "'P_CTRL_8W_M_03_sorted_genome_bam_PEPD1.loom',\n",
    "'P_HF_24W_F_01_sorted_genome_bam_DHUUP.loom',\n",
    "'P_HF_24W_F_02_sorted_genome_bam_DMKU4.loom',\n",
    "'P_HF_24W_F_03_sorted_genome_bam_T8GB0.loom',\n",
    "'P_HF_24W_M_01_sorted_genome_bam_4EOU3.loom',\n",
    "'P_HF_24W_M_02_sorted_genome_bam_BWQFP.loom',\n",
    "'P_HF_24W_M_03_sorted_genome_bam_60LDI.loom',\n",
    "'P_HF_8W_F_01_sorted_genome_bam_A3LZ9.loom',\n",
    "'P_HF_8W_F_02_sorted_genome_bam_LJ5V2.loom',\n",
    "'P_HF_8W_F_03_sorted_genome_bam_N9OH6.loom',\n",
    "'P_HF_8W_M_01_sorted_genome_bam_K7I5G.loom',\n",
    "'P_HF_8W_M_02_sorted_genome_bam_O96R1.loom',\n",
    "'P_HF_8W_M_03_sorted_genome_bam_LDUOE.loom']"
   ]
  },
  {
   "cell_type": "code",
   "execution_count": 7,
   "metadata": {},
   "outputs": [],
   "source": [
    "Control_Female_8W = ['P_CTRL_8W_F_01_sorted_genome_bam_WVKQS.loom',\n",
    "'P_CTRL_8W_F_02_sorted_genome_bam_MS65S.loom',\n",
    "'P_CTRL_8W_F_03_sorted_genome_bam_3VQ3K.loom']\n",
    "\n",
    "Control_Female_24W = ['P_CTRL_24W_F_01_sorted_genome_bam_UIQFT.loom',\n",
    "'P_CTRL_24W_F_02_sorted_genome_bam_OW37X.loom',\n",
    "'P_CTRL_24W_F_03_sorted_genome_bam_2F2VI.loom',]\n",
    "\n",
    "HF_Female_8W = ['P_HF_8W_F_01_sorted_genome_bam_A3LZ9.loom',\n",
    "'P_HF_8W_F_02_sorted_genome_bam_LJ5V2.loom',\n",
    "'P_HF_8W_F_03_sorted_genome_bam_N9OH6.loom',]\n",
    "\n",
    "HF_Female_24W = ['P_HF_24W_F_01_sorted_genome_bam_DHUUP.loom',\n",
    "'P_HF_24W_F_02_sorted_genome_bam_DMKU4.loom',\n",
    "'P_HF_24W_F_03_sorted_genome_bam_T8GB0.loom',]"
   ]
  },
  {
   "cell_type": "code",
   "execution_count": 8,
   "metadata": {},
   "outputs": [],
   "source": [
    "Control_Male_8W = ['P_CTRL_8W_M_01_sorted_genome_bam_MKQVV.loom',\n",
    "'P_CTRL_8W_M_02_sorted_genome_bam_33V25.loom',\n",
    "'P_CTRL_8W_M_03_sorted_genome_bam_PEPD1.loom']\n",
    "\n",
    "Control_Male_24W = ['P_CTRL_24W_M_01_sorted_genome_bam_SA1MV.loom',\n",
    "'P_CTRL_24W_M_02_sorted_genome_bam_N13OP.loom',\n",
    "'P_CTRL_24W_M_03_sorted_genome_bam_M08ZH.loom']\n",
    "\n",
    "HF_Male_8W = ['P_HF_8W_M_01_sorted_genome_bam_K7I5G.loom',\n",
    "'P_HF_8W_M_02_sorted_genome_bam_O96R1.loom',\n",
    "'P_HF_8W_M_03_sorted_genome_bam_LDUOE.loom']\n",
    "\n",
    "HF_Male_24W = ['P_HF_24W_M_01_sorted_genome_bam_4EOU3.loom',\n",
    "'P_HF_24W_M_02_sorted_genome_bam_BWQFP.loom',\n",
    "'P_HF_24W_M_03_sorted_genome_bam_60LDI.loom']"
   ]
  },
  {
   "cell_type": "code",
   "execution_count": 9,
   "metadata": {},
   "outputs": [
    {
     "name": "stderr",
     "output_type": "stream",
     "text": [
      "WARNING:root:╭── 'batch_scan_layers' is deprecated. Use 'scan' instead\n",
      "WARNING:root:╰──> at /Users/derekebowman/miniconda3/envs/scVelo/lib/python3.12/site-packages/loompy/loompy.py, line 471\n",
      "WARNING:root:╭── 'batch_scan_layers' is deprecated. Use 'scan' instead\n",
      "WARNING:root:╰──> at /Users/derekebowman/miniconda3/envs/scVelo/lib/python3.12/site-packages/loompy/loompy.py, line 471\n"
     ]
    }
   ],
   "source": [
    "loompy.combine(Control_Female_8W, 'Control_Female_8W.loom', key=\"Accession\")"
   ]
  },
  {
   "cell_type": "code",
   "execution_count": 10,
   "metadata": {},
   "outputs": [
    {
     "name": "stderr",
     "output_type": "stream",
     "text": [
      "WARNING:root:╭── 'batch_scan_layers' is deprecated. Use 'scan' instead\n",
      "WARNING:root:╰──> at /Users/derekebowman/miniconda3/envs/scVelo/lib/python3.12/site-packages/loompy/loompy.py, line 471\n",
      "WARNING:root:╭── 'batch_scan_layers' is deprecated. Use 'scan' instead\n",
      "WARNING:root:╰──> at /Users/derekebowman/miniconda3/envs/scVelo/lib/python3.12/site-packages/loompy/loompy.py, line 471\n"
     ]
    }
   ],
   "source": [
    "loompy.combine(Control_Female_24W, 'Control_Female_24W.loom', key=\"Accession\")\n"
   ]
  },
  {
   "cell_type": "code",
   "execution_count": 11,
   "metadata": {},
   "outputs": [
    {
     "name": "stderr",
     "output_type": "stream",
     "text": [
      "WARNING:root:╭── 'batch_scan_layers' is deprecated. Use 'scan' instead\n",
      "WARNING:root:╰──> at /Users/derekebowman/miniconda3/envs/scVelo/lib/python3.12/site-packages/loompy/loompy.py, line 471\n",
      "WARNING:root:╭── 'batch_scan_layers' is deprecated. Use 'scan' instead\n",
      "WARNING:root:╰──> at /Users/derekebowman/miniconda3/envs/scVelo/lib/python3.12/site-packages/loompy/loompy.py, line 471\n"
     ]
    }
   ],
   "source": [
    "loompy.combine(HF_Female_8W, 'HF_Female_8W.loom', key=\"Accession\")"
   ]
  },
  {
   "cell_type": "code",
   "execution_count": 12,
   "metadata": {},
   "outputs": [
    {
     "name": "stderr",
     "output_type": "stream",
     "text": [
      "WARNING:root:╭── 'batch_scan_layers' is deprecated. Use 'scan' instead\n",
      "WARNING:root:╰──> at /Users/derekebowman/miniconda3/envs/scVelo/lib/python3.12/site-packages/loompy/loompy.py, line 471\n",
      "WARNING:root:╭── 'batch_scan_layers' is deprecated. Use 'scan' instead\n",
      "WARNING:root:╰──> at /Users/derekebowman/miniconda3/envs/scVelo/lib/python3.12/site-packages/loompy/loompy.py, line 471\n"
     ]
    }
   ],
   "source": [
    "loompy.combine(HF_Female_24W, 'HF_Female_24W.loom', key=\"Accession\")"
   ]
  },
  {
   "cell_type": "code",
   "execution_count": 13,
   "metadata": {},
   "outputs": [
    {
     "name": "stderr",
     "output_type": "stream",
     "text": [
      "WARNING:root:╭── 'batch_scan_layers' is deprecated. Use 'scan' instead\n",
      "WARNING:root:╰──> at /Users/derekebowman/miniconda3/envs/scVelo/lib/python3.12/site-packages/loompy/loompy.py, line 471\n",
      "WARNING:root:╭── 'batch_scan_layers' is deprecated. Use 'scan' instead\n",
      "WARNING:root:╰──> at /Users/derekebowman/miniconda3/envs/scVelo/lib/python3.12/site-packages/loompy/loompy.py, line 471\n"
     ]
    }
   ],
   "source": [
    "loompy.combine(Control_Male_8W, 'Control_Male_8W.loom', key=\"Accession\")"
   ]
  },
  {
   "cell_type": "code",
   "execution_count": 14,
   "metadata": {},
   "outputs": [
    {
     "name": "stderr",
     "output_type": "stream",
     "text": [
      "WARNING:root:╭── 'batch_scan_layers' is deprecated. Use 'scan' instead\n",
      "WARNING:root:╰──> at /Users/derekebowman/miniconda3/envs/scVelo/lib/python3.12/site-packages/loompy/loompy.py, line 471\n",
      "WARNING:root:╭── 'batch_scan_layers' is deprecated. Use 'scan' instead\n",
      "WARNING:root:╰──> at /Users/derekebowman/miniconda3/envs/scVelo/lib/python3.12/site-packages/loompy/loompy.py, line 471\n"
     ]
    }
   ],
   "source": [
    "loompy.combine(Control_Male_24W, 'Control_Male_24W.loom', key=\"Accession\")"
   ]
  },
  {
   "cell_type": "code",
   "execution_count": 15,
   "metadata": {},
   "outputs": [
    {
     "name": "stderr",
     "output_type": "stream",
     "text": [
      "WARNING:root:╭── 'batch_scan_layers' is deprecated. Use 'scan' instead\n",
      "WARNING:root:╰──> at /Users/derekebowman/miniconda3/envs/scVelo/lib/python3.12/site-packages/loompy/loompy.py, line 471\n",
      "WARNING:root:╭── 'batch_scan_layers' is deprecated. Use 'scan' instead\n",
      "WARNING:root:╰──> at /Users/derekebowman/miniconda3/envs/scVelo/lib/python3.12/site-packages/loompy/loompy.py, line 471\n"
     ]
    }
   ],
   "source": [
    "loompy.combine(HF_Male_8W, 'HF_Male_8W.loom', key=\"Accession\")"
   ]
  },
  {
   "cell_type": "code",
   "execution_count": 16,
   "metadata": {},
   "outputs": [
    {
     "name": "stderr",
     "output_type": "stream",
     "text": [
      "WARNING:root:╭── 'batch_scan_layers' is deprecated. Use 'scan' instead\n",
      "WARNING:root:╰──> at /Users/derekebowman/miniconda3/envs/scVelo/lib/python3.12/site-packages/loompy/loompy.py, line 471\n",
      "WARNING:root:╭── 'batch_scan_layers' is deprecated. Use 'scan' instead\n",
      "WARNING:root:╰──> at /Users/derekebowman/miniconda3/envs/scVelo/lib/python3.12/site-packages/loompy/loompy.py, line 471\n"
     ]
    }
   ],
   "source": [
    "loompy.combine(HF_Male_24W, 'HF_Male_24W.loom', key=\"Accession\")"
   ]
  },
  {
   "cell_type": "code",
   "execution_count": 6,
   "metadata": {},
   "outputs": [
    {
     "name": "stderr",
     "output_type": "stream",
     "text": [
      "WARNING:root:╭── 'batch_scan_layers' is deprecated. Use 'scan' instead\n",
      "WARNING:root:╰──> at /Users/derekebowman/miniconda3/envs/scVelo/lib/python3.12/site-packages/loompy/loompy.py, line 471\n",
      "WARNING:root:╭── 'batch_scan_layers' is deprecated. Use 'scan' instead\n",
      "WARNING:root:╰──> at /Users/derekebowman/miniconda3/envs/scVelo/lib/python3.12/site-packages/loompy/loompy.py, line 471\n",
      "WARNING:root:╭── 'batch_scan_layers' is deprecated. Use 'scan' instead\n",
      "WARNING:root:╰──> at /Users/derekebowman/miniconda3/envs/scVelo/lib/python3.12/site-packages/loompy/loompy.py, line 471\n",
      "WARNING:root:╭── 'batch_scan_layers' is deprecated. Use 'scan' instead\n",
      "WARNING:root:╰──> at /Users/derekebowman/miniconda3/envs/scVelo/lib/python3.12/site-packages/loompy/loompy.py, line 471\n",
      "WARNING:root:╭── 'batch_scan_layers' is deprecated. Use 'scan' instead\n",
      "WARNING:root:╰──> at /Users/derekebowman/miniconda3/envs/scVelo/lib/python3.12/site-packages/loompy/loompy.py, line 471\n",
      "WARNING:root:╭── 'batch_scan_layers' is deprecated. Use 'scan' instead\n",
      "WARNING:root:╰──> at /Users/derekebowman/miniconda3/envs/scVelo/lib/python3.12/site-packages/loompy/loompy.py, line 471\n",
      "WARNING:root:╭── 'batch_scan_layers' is deprecated. Use 'scan' instead\n",
      "WARNING:root:╰──> at /Users/derekebowman/miniconda3/envs/scVelo/lib/python3.12/site-packages/loompy/loompy.py, line 471\n",
      "WARNING:root:╭── 'batch_scan_layers' is deprecated. Use 'scan' instead\n",
      "WARNING:root:╰──> at /Users/derekebowman/miniconda3/envs/scVelo/lib/python3.12/site-packages/loompy/loompy.py, line 471\n",
      "WARNING:root:╭── 'batch_scan_layers' is deprecated. Use 'scan' instead\n",
      "WARNING:root:╰──> at /Users/derekebowman/miniconda3/envs/scVelo/lib/python3.12/site-packages/loompy/loompy.py, line 471\n",
      "WARNING:root:╭── 'batch_scan_layers' is deprecated. Use 'scan' instead\n",
      "WARNING:root:╰──> at /Users/derekebowman/miniconda3/envs/scVelo/lib/python3.12/site-packages/loompy/loompy.py, line 471\n",
      "WARNING:root:╭── 'batch_scan_layers' is deprecated. Use 'scan' instead\n",
      "WARNING:root:╰──> at /Users/derekebowman/miniconda3/envs/scVelo/lib/python3.12/site-packages/loompy/loompy.py, line 471\n",
      "WARNING:root:╭── 'batch_scan_layers' is deprecated. Use 'scan' instead\n",
      "WARNING:root:╰──> at /Users/derekebowman/miniconda3/envs/scVelo/lib/python3.12/site-packages/loompy/loompy.py, line 471\n",
      "WARNING:root:╭── 'batch_scan_layers' is deprecated. Use 'scan' instead\n",
      "WARNING:root:╰──> at /Users/derekebowman/miniconda3/envs/scVelo/lib/python3.12/site-packages/loompy/loompy.py, line 471\n",
      "WARNING:root:╭── 'batch_scan_layers' is deprecated. Use 'scan' instead\n",
      "WARNING:root:╰──> at /Users/derekebowman/miniconda3/envs/scVelo/lib/python3.12/site-packages/loompy/loompy.py, line 471\n",
      "WARNING:root:╭── 'batch_scan_layers' is deprecated. Use 'scan' instead\n",
      "WARNING:root:╰──> at /Users/derekebowman/miniconda3/envs/scVelo/lib/python3.12/site-packages/loompy/loompy.py, line 471\n",
      "WARNING:root:╭── 'batch_scan_layers' is deprecated. Use 'scan' instead\n",
      "WARNING:root:╰──> at /Users/derekebowman/miniconda3/envs/scVelo/lib/python3.12/site-packages/loompy/loompy.py, line 471\n",
      "WARNING:root:╭── 'batch_scan_layers' is deprecated. Use 'scan' instead\n",
      "WARNING:root:╰──> at /Users/derekebowman/miniconda3/envs/scVelo/lib/python3.12/site-packages/loompy/loompy.py, line 471\n",
      "WARNING:root:╭── 'batch_scan_layers' is deprecated. Use 'scan' instead\n",
      "WARNING:root:╰──> at /Users/derekebowman/miniconda3/envs/scVelo/lib/python3.12/site-packages/loompy/loompy.py, line 471\n",
      "WARNING:root:╭── 'batch_scan_layers' is deprecated. Use 'scan' instead\n",
      "WARNING:root:╰──> at /Users/derekebowman/miniconda3/envs/scVelo/lib/python3.12/site-packages/loompy/loompy.py, line 471\n",
      "WARNING:root:╭── 'batch_scan_layers' is deprecated. Use 'scan' instead\n",
      "WARNING:root:╰──> at /Users/derekebowman/miniconda3/envs/scVelo/lib/python3.12/site-packages/loompy/loompy.py, line 471\n",
      "WARNING:root:╭── 'batch_scan_layers' is deprecated. Use 'scan' instead\n",
      "WARNING:root:╰──> at /Users/derekebowman/miniconda3/envs/scVelo/lib/python3.12/site-packages/loompy/loompy.py, line 471\n",
      "WARNING:root:╭── 'batch_scan_layers' is deprecated. Use 'scan' instead\n",
      "WARNING:root:╰──> at /Users/derekebowman/miniconda3/envs/scVelo/lib/python3.12/site-packages/loompy/loompy.py, line 471\n",
      "WARNING:root:╭── 'batch_scan_layers' is deprecated. Use 'scan' instead\n",
      "WARNING:root:╰──> at /Users/derekebowman/miniconda3/envs/scVelo/lib/python3.12/site-packages/loompy/loompy.py, line 471\n"
     ]
    }
   ],
   "source": [
    "loompy.combine(files, 'Complete_Loom_File.loom', key=\"Accession\")"
   ]
  },
  {
   "cell_type": "code",
   "execution_count": null,
   "metadata": {},
   "outputs": [],
   "source": []
  }
 ],
 "metadata": {
  "kernelspec": {
   "display_name": "scVelo",
   "language": "python",
   "name": "python3"
  },
  "language_info": {
   "codemirror_mode": {
    "name": "ipython",
    "version": 3
   },
   "file_extension": ".py",
   "mimetype": "text/x-python",
   "name": "python",
   "nbconvert_exporter": "python",
   "pygments_lexer": "ipython3",
   "version": "3.12.4"
  }
 },
 "nbformat": 4,
 "nbformat_minor": 2
}
