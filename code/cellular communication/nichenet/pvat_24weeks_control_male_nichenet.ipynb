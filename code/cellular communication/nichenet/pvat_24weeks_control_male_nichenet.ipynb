{
 "cells": [
  {
   "cell_type": "code",
   "execution_count": 2,
   "id": "a81376a0-05d5-4ff5-8007-7639ffd93aba",
   "metadata": {
    "scrolled": true
   },
   "outputs": [],
   "source": [
    "library(nichenetr)\n",
    "library(Seurat)\n",
    "library(SeuratObject)\n",
    "library(tidyverse)\n",
    "library(dplyr)\n",
    "library(circlize)\n",
    "library(networkD3)"
   ]
  },
  {
   "cell_type": "code",
   "execution_count": 3,
   "id": "60a30fae-2c43-4bc6-b4bc-41c9ebbf6bdc",
   "metadata": {},
   "outputs": [],
   "source": [
    "lr_network = readRDS(\"../../nichenet_mouse_pre_compiled_interactions_networks/lr_network_mouse_21122021.rds\")\n",
    "ligand_target_matrix = readRDS(\"../../nichenet_mouse_pre_compiled_interactions_networks/ligand_target_matrix_nsga2r_final_mouse.rds\")\n",
    "weighted_networks = readRDS(\"../../nichenet_mouse_pre_compiled_interactions_networks/weighted_networks_nsga2r_final_mouse.rds\")\n",
    "ligand_tf_matrix = readRDS(\"../../nichenet_mouse_pre_compiled_interactions_networks/ligand_tf_matrix_nsga2r_final_mouse.rds\")\n",
    "sig_network = readRDS(\"../../nichenet_mouse_pre_compiled_interactions_networks/signaling_network_mouse_21122021.rds\")\n",
    "gr_network = readRDS(\"../../nichenet_mouse_pre_compiled_interactions_networks/gr_network_mouse_21122021.rds\")\n",
    "\n",
    "weighted_networks_lr = weighted_networks$lr_sig %>% inner_join(lr_network, by = c(\"from\",\"to\"))\n",
    "weighted_networks_lr=weighted_networks_lr[,-c(4,5)]"
   ]
  },
  {
   "cell_type": "code",
   "execution_count": 4,
   "id": "e3d2b435-ceaf-4e63-9397-54d9105bfc83",
   "metadata": {},
   "outputs": [],
   "source": [
    "pvat_24weeks_control_male_expr = read.csv(\"../exported_data/pvat_24weeks_control_male_expr.csv\", row.names=1)\n",
    "pvat_24weeks_control_male_metadata = read.csv(\"../exported_data/pvat_24weeks_control_male_metadata.csv\", row.names=1)"
   ]
  },
  {
   "cell_type": "code",
   "execution_count": 5,
   "id": "b3fd1fc9-7ea8-4ced-a268-f24dc5e151a3",
   "metadata": {},
   "outputs": [
    {
     "data": {
      "text/html": [
       "<table class=\"dataframe\">\n",
       "<caption>A data.frame: 6 × 20743</caption>\n",
       "<thead>\n",
       "\t<tr><th></th><th scope=col>X1700066B19Rik</th><th scope=col>X3110082J24Rik</th><th scope=col>X4930404H24Rik</th><th scope=col>X4930455H04Rik</th><th scope=col>X4933400A11Rik</th><th scope=col>X6330411D24Rik</th><th scope=col>A1cf</th><th scope=col>A2m</th><th scope=col>A2ml1</th><th scope=col>A3galt2</th><th scope=col>⋯</th><th scope=col>Zyg11a</th><th scope=col>Zyg11b</th><th scope=col>Zyx</th><th scope=col>Zzef1</th><th scope=col>Zzz3</th><th scope=col>hist1h2ail2</th><th scope=col>mrpl11</th><th scope=col>mrpl24</th><th scope=col>mrpl9</th><th scope=col>rnf141</th></tr>\n",
       "\t<tr><th></th><th scope=col>&lt;dbl&gt;</th><th scope=col>&lt;dbl&gt;</th><th scope=col>&lt;dbl&gt;</th><th scope=col>&lt;dbl&gt;</th><th scope=col>&lt;dbl&gt;</th><th scope=col>&lt;dbl&gt;</th><th scope=col>&lt;dbl&gt;</th><th scope=col>&lt;dbl&gt;</th><th scope=col>&lt;dbl&gt;</th><th scope=col>&lt;dbl&gt;</th><th scope=col>⋯</th><th scope=col>&lt;dbl&gt;</th><th scope=col>&lt;dbl&gt;</th><th scope=col>&lt;dbl&gt;</th><th scope=col>&lt;dbl&gt;</th><th scope=col>&lt;dbl&gt;</th><th scope=col>&lt;dbl&gt;</th><th scope=col>&lt;dbl&gt;</th><th scope=col>&lt;dbl&gt;</th><th scope=col>&lt;dbl&gt;</th><th scope=col>&lt;dbl&gt;</th></tr>\n",
       "</thead>\n",
       "<tbody>\n",
       "\t<tr><th scope=row>AAACCCAAGGTTACCT-1-6</th><td>0</td><td>0</td><td>0</td><td>0</td><td>0</td><td>0</td><td>0</td><td>0</td><td>0</td><td>0</td><td>⋯</td><td>0</td><td>0</td><td>0</td><td>1</td><td>0</td><td>0</td><td>0</td><td>0</td><td>0</td><td>1</td></tr>\n",
       "\t<tr><th scope=row>AAACCCACAGGCCCTA-1-6</th><td>0</td><td>0</td><td>0</td><td>0</td><td>0</td><td>0</td><td>0</td><td>0</td><td>0</td><td>0</td><td>⋯</td><td>0</td><td>0</td><td>0</td><td>1</td><td>2</td><td>0</td><td>0</td><td>0</td><td>0</td><td>1</td></tr>\n",
       "\t<tr><th scope=row>AAACCCACATGAGTAA-1-6</th><td>0</td><td>0</td><td>0</td><td>0</td><td>0</td><td>0</td><td>0</td><td>0</td><td>0</td><td>0</td><td>⋯</td><td>0</td><td>0</td><td>1</td><td>0</td><td>0</td><td>0</td><td>0</td><td>0</td><td>0</td><td>0</td></tr>\n",
       "\t<tr><th scope=row>AAACGAACATAATCGC-1-6</th><td>0</td><td>0</td><td>0</td><td>0</td><td>0</td><td>0</td><td>0</td><td>0</td><td>0</td><td>0</td><td>⋯</td><td>0</td><td>0</td><td>0</td><td>0</td><td>0</td><td>0</td><td>0</td><td>0</td><td>0</td><td>0</td></tr>\n",
       "\t<tr><th scope=row>AAACGCTGTATGGTTC-1-6</th><td>0</td><td>0</td><td>0</td><td>0</td><td>0</td><td>0</td><td>0</td><td>0</td><td>0</td><td>0</td><td>⋯</td><td>0</td><td>0</td><td>0</td><td>0</td><td>0</td><td>0</td><td>0</td><td>0</td><td>0</td><td>0</td></tr>\n",
       "\t<tr><th scope=row>AAACGCTTCATGCCCT-1-6</th><td>0</td><td>0</td><td>0</td><td>0</td><td>0</td><td>0</td><td>0</td><td>0</td><td>0</td><td>0</td><td>⋯</td><td>0</td><td>0</td><td>0</td><td>1</td><td>0</td><td>0</td><td>0</td><td>0</td><td>0</td><td>0</td></tr>\n",
       "</tbody>\n",
       "</table>\n"
      ],
      "text/latex": [
       "A data.frame: 6 × 20743\n",
       "\\begin{tabular}{r|lllllllllllllllllllll}\n",
       "  & X1700066B19Rik & X3110082J24Rik & X4930404H24Rik & X4930455H04Rik & X4933400A11Rik & X6330411D24Rik & A1cf & A2m & A2ml1 & A3galt2 & ⋯ & Zyg11a & Zyg11b & Zyx & Zzef1 & Zzz3 & hist1h2ail2 & mrpl11 & mrpl24 & mrpl9 & rnf141\\\\\n",
       "  & <dbl> & <dbl> & <dbl> & <dbl> & <dbl> & <dbl> & <dbl> & <dbl> & <dbl> & <dbl> & ⋯ & <dbl> & <dbl> & <dbl> & <dbl> & <dbl> & <dbl> & <dbl> & <dbl> & <dbl> & <dbl>\\\\\n",
       "\\hline\n",
       "\tAAACCCAAGGTTACCT-1-6 & 0 & 0 & 0 & 0 & 0 & 0 & 0 & 0 & 0 & 0 & ⋯ & 0 & 0 & 0 & 1 & 0 & 0 & 0 & 0 & 0 & 1\\\\\n",
       "\tAAACCCACAGGCCCTA-1-6 & 0 & 0 & 0 & 0 & 0 & 0 & 0 & 0 & 0 & 0 & ⋯ & 0 & 0 & 0 & 1 & 2 & 0 & 0 & 0 & 0 & 1\\\\\n",
       "\tAAACCCACATGAGTAA-1-6 & 0 & 0 & 0 & 0 & 0 & 0 & 0 & 0 & 0 & 0 & ⋯ & 0 & 0 & 1 & 0 & 0 & 0 & 0 & 0 & 0 & 0\\\\\n",
       "\tAAACGAACATAATCGC-1-6 & 0 & 0 & 0 & 0 & 0 & 0 & 0 & 0 & 0 & 0 & ⋯ & 0 & 0 & 0 & 0 & 0 & 0 & 0 & 0 & 0 & 0\\\\\n",
       "\tAAACGCTGTATGGTTC-1-6 & 0 & 0 & 0 & 0 & 0 & 0 & 0 & 0 & 0 & 0 & ⋯ & 0 & 0 & 0 & 0 & 0 & 0 & 0 & 0 & 0 & 0\\\\\n",
       "\tAAACGCTTCATGCCCT-1-6 & 0 & 0 & 0 & 0 & 0 & 0 & 0 & 0 & 0 & 0 & ⋯ & 0 & 0 & 0 & 1 & 0 & 0 & 0 & 0 & 0 & 0\\\\\n",
       "\\end{tabular}\n"
      ],
      "text/markdown": [
       "\n",
       "A data.frame: 6 × 20743\n",
       "\n",
       "| <!--/--> | X1700066B19Rik &lt;dbl&gt; | X3110082J24Rik &lt;dbl&gt; | X4930404H24Rik &lt;dbl&gt; | X4930455H04Rik &lt;dbl&gt; | X4933400A11Rik &lt;dbl&gt; | X6330411D24Rik &lt;dbl&gt; | A1cf &lt;dbl&gt; | A2m &lt;dbl&gt; | A2ml1 &lt;dbl&gt; | A3galt2 &lt;dbl&gt; | ⋯ ⋯ | Zyg11a &lt;dbl&gt; | Zyg11b &lt;dbl&gt; | Zyx &lt;dbl&gt; | Zzef1 &lt;dbl&gt; | Zzz3 &lt;dbl&gt; | hist1h2ail2 &lt;dbl&gt; | mrpl11 &lt;dbl&gt; | mrpl24 &lt;dbl&gt; | mrpl9 &lt;dbl&gt; | rnf141 &lt;dbl&gt; |\n",
       "|---|---|---|---|---|---|---|---|---|---|---|---|---|---|---|---|---|---|---|---|---|---|\n",
       "| AAACCCAAGGTTACCT-1-6 | 0 | 0 | 0 | 0 | 0 | 0 | 0 | 0 | 0 | 0 | ⋯ | 0 | 0 | 0 | 1 | 0 | 0 | 0 | 0 | 0 | 1 |\n",
       "| AAACCCACAGGCCCTA-1-6 | 0 | 0 | 0 | 0 | 0 | 0 | 0 | 0 | 0 | 0 | ⋯ | 0 | 0 | 0 | 1 | 2 | 0 | 0 | 0 | 0 | 1 |\n",
       "| AAACCCACATGAGTAA-1-6 | 0 | 0 | 0 | 0 | 0 | 0 | 0 | 0 | 0 | 0 | ⋯ | 0 | 0 | 1 | 0 | 0 | 0 | 0 | 0 | 0 | 0 |\n",
       "| AAACGAACATAATCGC-1-6 | 0 | 0 | 0 | 0 | 0 | 0 | 0 | 0 | 0 | 0 | ⋯ | 0 | 0 | 0 | 0 | 0 | 0 | 0 | 0 | 0 | 0 |\n",
       "| AAACGCTGTATGGTTC-1-6 | 0 | 0 | 0 | 0 | 0 | 0 | 0 | 0 | 0 | 0 | ⋯ | 0 | 0 | 0 | 0 | 0 | 0 | 0 | 0 | 0 | 0 |\n",
       "| AAACGCTTCATGCCCT-1-6 | 0 | 0 | 0 | 0 | 0 | 0 | 0 | 0 | 0 | 0 | ⋯ | 0 | 0 | 0 | 1 | 0 | 0 | 0 | 0 | 0 | 0 |\n",
       "\n"
      ],
      "text/plain": [
       "                     X1700066B19Rik X3110082J24Rik X4930404H24Rik\n",
       "AAACCCAAGGTTACCT-1-6 0              0              0             \n",
       "AAACCCACAGGCCCTA-1-6 0              0              0             \n",
       "AAACCCACATGAGTAA-1-6 0              0              0             \n",
       "AAACGAACATAATCGC-1-6 0              0              0             \n",
       "AAACGCTGTATGGTTC-1-6 0              0              0             \n",
       "AAACGCTTCATGCCCT-1-6 0              0              0             \n",
       "                     X4930455H04Rik X4933400A11Rik X6330411D24Rik A1cf A2m\n",
       "AAACCCAAGGTTACCT-1-6 0              0              0              0    0  \n",
       "AAACCCACAGGCCCTA-1-6 0              0              0              0    0  \n",
       "AAACCCACATGAGTAA-1-6 0              0              0              0    0  \n",
       "AAACGAACATAATCGC-1-6 0              0              0              0    0  \n",
       "AAACGCTGTATGGTTC-1-6 0              0              0              0    0  \n",
       "AAACGCTTCATGCCCT-1-6 0              0              0              0    0  \n",
       "                     A2ml1 A3galt2 ⋯ Zyg11a Zyg11b Zyx Zzef1 Zzz3 hist1h2ail2\n",
       "AAACCCAAGGTTACCT-1-6 0     0       ⋯ 0      0      0   1     0    0          \n",
       "AAACCCACAGGCCCTA-1-6 0     0       ⋯ 0      0      0   1     2    0          \n",
       "AAACCCACATGAGTAA-1-6 0     0       ⋯ 0      0      1   0     0    0          \n",
       "AAACGAACATAATCGC-1-6 0     0       ⋯ 0      0      0   0     0    0          \n",
       "AAACGCTGTATGGTTC-1-6 0     0       ⋯ 0      0      0   0     0    0          \n",
       "AAACGCTTCATGCCCT-1-6 0     0       ⋯ 0      0      0   1     0    0          \n",
       "                     mrpl11 mrpl24 mrpl9 rnf141\n",
       "AAACCCAAGGTTACCT-1-6 0      0      0     1     \n",
       "AAACCCACAGGCCCTA-1-6 0      0      0     1     \n",
       "AAACCCACATGAGTAA-1-6 0      0      0     0     \n",
       "AAACGAACATAATCGC-1-6 0      0      0     0     \n",
       "AAACGCTGTATGGTTC-1-6 0      0      0     0     \n",
       "AAACGCTTCATGCCCT-1-6 0      0      0     0     "
      ]
     },
     "metadata": {},
     "output_type": "display_data"
    }
   ],
   "source": [
    "head(pvat_24weeks_control_male_expr)"
   ]
  },
  {
   "cell_type": "code",
   "execution_count": 6,
   "id": "2235ad34-7a5c-4ff4-823a-9ef28092f5b8",
   "metadata": {},
   "outputs": [
    {
     "data": {
      "text/html": [
       "<table class=\"dataframe\">\n",
       "<caption>A data.frame: 6 × 43</caption>\n",
       "<thead>\n",
       "\t<tr><th></th><th scope=col>sample_id</th><th scope=col>n_genes_by_counts</th><th scope=col>log1p_n_genes_by_counts</th><th scope=col>total_counts</th><th scope=col>log1p_total_counts</th><th scope=col>pct_counts_in_top_20_genes</th><th scope=col>total_counts_mt</th><th scope=col>log1p_total_counts_mt</th><th scope=col>pct_counts_mt</th><th scope=col>total_counts_ribo</th><th scope=col>⋯</th><th scope=col>systolic_bp_7W</th><th scope=col>MAP_9W</th><th scope=col>systolic_bp_9W</th><th scope=col>MAP_16W</th><th scope=col>systolic_bp_16W</th><th scope=col>MAP_24W</th><th scope=col>systolic_bp_24W</th><th scope=col>doublet</th><th scope=col>celltype</th><th scope=col>celltype_broad</th></tr>\n",
       "\t<tr><th></th><th scope=col>&lt;chr&gt;</th><th scope=col>&lt;int&gt;</th><th scope=col>&lt;dbl&gt;</th><th scope=col>&lt;dbl&gt;</th><th scope=col>&lt;dbl&gt;</th><th scope=col>&lt;dbl&gt;</th><th scope=col>&lt;dbl&gt;</th><th scope=col>&lt;dbl&gt;</th><th scope=col>&lt;dbl&gt;</th><th scope=col>&lt;dbl&gt;</th><th scope=col>⋯</th><th scope=col>&lt;lgl&gt;</th><th scope=col>&lt;dbl&gt;</th><th scope=col>&lt;dbl&gt;</th><th scope=col>&lt;dbl&gt;</th><th scope=col>&lt;dbl&gt;</th><th scope=col>&lt;dbl&gt;</th><th scope=col>&lt;dbl&gt;</th><th scope=col>&lt;chr&gt;</th><th scope=col>&lt;chr&gt;</th><th scope=col>&lt;chr&gt;</th></tr>\n",
       "</thead>\n",
       "<tbody>\n",
       "\t<tr><th scope=row>AAACCCAAGGTTACCT-1-6</th><td>P_CTRL_24W_M_01</td><td> 978</td><td>6.886532</td><td>1395</td><td>7.241366</td><td>10.46595</td><td> 6</td><td>1.945910</td><td>0.4301075</td><td> 2</td><td>⋯</td><td>NA</td><td>108.5</td><td>148.5</td><td>115.7</td><td>154</td><td>110.6</td><td>163</td><td>False</td><td>ECs_Lymph                </td><td>Endothelial_Cells</td></tr>\n",
       "\t<tr><th scope=row>AAACCCACAGGCCCTA-1-6</th><td>P_CTRL_24W_M_01</td><td>2561</td><td>7.848543</td><td>6279</td><td>8.745125</td><td> 9.60344</td><td> 7</td><td>2.079442</td><td>0.1114827</td><td>10</td><td>⋯</td><td>NA</td><td>108.5</td><td>148.5</td><td>115.7</td><td>154</td><td>110.6</td><td>163</td><td>False</td><td>Adipocytes_Brown         </td><td>Adipocytes       </td></tr>\n",
       "\t<tr><th scope=row>AAACCCACATGAGTAA-1-6</th><td>P_CTRL_24W_M_01</td><td>1543</td><td>7.342132</td><td>2954</td><td>7.991254</td><td>13.84563</td><td>12</td><td>2.564949</td><td>0.4062288</td><td> 2</td><td>⋯</td><td>NA</td><td>108.5</td><td>148.5</td><td>115.7</td><td>154</td><td>110.6</td><td>163</td><td>False</td><td>Pericytes                </td><td>Pericytes        </td></tr>\n",
       "\t<tr><th scope=row>AAACGAACATAATCGC-1-6</th><td>P_CTRL_24W_M_01</td><td> 922</td><td>6.827629</td><td>1347</td><td>7.206377</td><td>12.10097</td><td> 4</td><td>1.609438</td><td>0.2969562</td><td> 6</td><td>⋯</td><td>NA</td><td>108.5</td><td>148.5</td><td>115.7</td><td>154</td><td>110.6</td><td>163</td><td>False</td><td>Fibroblasts_Bmper+_Nrxn1+</td><td>Fibroblasts      </td></tr>\n",
       "\t<tr><th scope=row>AAACGCTGTATGGTTC-1-6</th><td>P_CTRL_24W_M_01</td><td>1046</td><td>6.953684</td><td>1610</td><td>7.384610</td><td>10.74534</td><td> 7</td><td>2.079442</td><td>0.4347826</td><td> 3</td><td>⋯</td><td>NA</td><td>108.5</td><td>148.5</td><td>115.7</td><td>154</td><td>110.6</td><td>163</td><td>False</td><td>ECs_Cap                  </td><td>Endothelial_Cells</td></tr>\n",
       "\t<tr><th scope=row>AAACGCTTCATGCCCT-1-6</th><td>P_CTRL_24W_M_01</td><td>2055</td><td>7.628518</td><td>4352</td><td>8.378621</td><td>12.59191</td><td>12</td><td>2.564949</td><td>0.2757353</td><td> 8</td><td>⋯</td><td>NA</td><td>108.5</td><td>148.5</td><td>115.7</td><td>154</td><td>110.6</td><td>163</td><td>False</td><td>Adipocytes_Brown         </td><td>Adipocytes       </td></tr>\n",
       "</tbody>\n",
       "</table>\n"
      ],
      "text/latex": [
       "A data.frame: 6 × 43\n",
       "\\begin{tabular}{r|lllllllllllllllllllll}\n",
       "  & sample\\_id & n\\_genes\\_by\\_counts & log1p\\_n\\_genes\\_by\\_counts & total\\_counts & log1p\\_total\\_counts & pct\\_counts\\_in\\_top\\_20\\_genes & total\\_counts\\_mt & log1p\\_total\\_counts\\_mt & pct\\_counts\\_mt & total\\_counts\\_ribo & ⋯ & systolic\\_bp\\_7W & MAP\\_9W & systolic\\_bp\\_9W & MAP\\_16W & systolic\\_bp\\_16W & MAP\\_24W & systolic\\_bp\\_24W & doublet & celltype & celltype\\_broad\\\\\n",
       "  & <chr> & <int> & <dbl> & <dbl> & <dbl> & <dbl> & <dbl> & <dbl> & <dbl> & <dbl> & ⋯ & <lgl> & <dbl> & <dbl> & <dbl> & <dbl> & <dbl> & <dbl> & <chr> & <chr> & <chr>\\\\\n",
       "\\hline\n",
       "\tAAACCCAAGGTTACCT-1-6 & P\\_CTRL\\_24W\\_M\\_01 &  978 & 6.886532 & 1395 & 7.241366 & 10.46595 &  6 & 1.945910 & 0.4301075 &  2 & ⋯ & NA & 108.5 & 148.5 & 115.7 & 154 & 110.6 & 163 & False & ECs\\_Lymph                 & Endothelial\\_Cells\\\\\n",
       "\tAAACCCACAGGCCCTA-1-6 & P\\_CTRL\\_24W\\_M\\_01 & 2561 & 7.848543 & 6279 & 8.745125 &  9.60344 &  7 & 2.079442 & 0.1114827 & 10 & ⋯ & NA & 108.5 & 148.5 & 115.7 & 154 & 110.6 & 163 & False & Adipocytes\\_Brown          & Adipocytes       \\\\\n",
       "\tAAACCCACATGAGTAA-1-6 & P\\_CTRL\\_24W\\_M\\_01 & 1543 & 7.342132 & 2954 & 7.991254 & 13.84563 & 12 & 2.564949 & 0.4062288 &  2 & ⋯ & NA & 108.5 & 148.5 & 115.7 & 154 & 110.6 & 163 & False & Pericytes                 & Pericytes        \\\\\n",
       "\tAAACGAACATAATCGC-1-6 & P\\_CTRL\\_24W\\_M\\_01 &  922 & 6.827629 & 1347 & 7.206377 & 12.10097 &  4 & 1.609438 & 0.2969562 &  6 & ⋯ & NA & 108.5 & 148.5 & 115.7 & 154 & 110.6 & 163 & False & Fibroblasts\\_Bmper+\\_Nrxn1+ & Fibroblasts      \\\\\n",
       "\tAAACGCTGTATGGTTC-1-6 & P\\_CTRL\\_24W\\_M\\_01 & 1046 & 6.953684 & 1610 & 7.384610 & 10.74534 &  7 & 2.079442 & 0.4347826 &  3 & ⋯ & NA & 108.5 & 148.5 & 115.7 & 154 & 110.6 & 163 & False & ECs\\_Cap                   & Endothelial\\_Cells\\\\\n",
       "\tAAACGCTTCATGCCCT-1-6 & P\\_CTRL\\_24W\\_M\\_01 & 2055 & 7.628518 & 4352 & 8.378621 & 12.59191 & 12 & 2.564949 & 0.2757353 &  8 & ⋯ & NA & 108.5 & 148.5 & 115.7 & 154 & 110.6 & 163 & False & Adipocytes\\_Brown          & Adipocytes       \\\\\n",
       "\\end{tabular}\n"
      ],
      "text/markdown": [
       "\n",
       "A data.frame: 6 × 43\n",
       "\n",
       "| <!--/--> | sample_id &lt;chr&gt; | n_genes_by_counts &lt;int&gt; | log1p_n_genes_by_counts &lt;dbl&gt; | total_counts &lt;dbl&gt; | log1p_total_counts &lt;dbl&gt; | pct_counts_in_top_20_genes &lt;dbl&gt; | total_counts_mt &lt;dbl&gt; | log1p_total_counts_mt &lt;dbl&gt; | pct_counts_mt &lt;dbl&gt; | total_counts_ribo &lt;dbl&gt; | ⋯ ⋯ | systolic_bp_7W &lt;lgl&gt; | MAP_9W &lt;dbl&gt; | systolic_bp_9W &lt;dbl&gt; | MAP_16W &lt;dbl&gt; | systolic_bp_16W &lt;dbl&gt; | MAP_24W &lt;dbl&gt; | systolic_bp_24W &lt;dbl&gt; | doublet &lt;chr&gt; | celltype &lt;chr&gt; | celltype_broad &lt;chr&gt; |\n",
       "|---|---|---|---|---|---|---|---|---|---|---|---|---|---|---|---|---|---|---|---|---|---|\n",
       "| AAACCCAAGGTTACCT-1-6 | P_CTRL_24W_M_01 |  978 | 6.886532 | 1395 | 7.241366 | 10.46595 |  6 | 1.945910 | 0.4301075 |  2 | ⋯ | NA | 108.5 | 148.5 | 115.7 | 154 | 110.6 | 163 | False | ECs_Lymph                 | Endothelial_Cells |\n",
       "| AAACCCACAGGCCCTA-1-6 | P_CTRL_24W_M_01 | 2561 | 7.848543 | 6279 | 8.745125 |  9.60344 |  7 | 2.079442 | 0.1114827 | 10 | ⋯ | NA | 108.5 | 148.5 | 115.7 | 154 | 110.6 | 163 | False | Adipocytes_Brown          | Adipocytes        |\n",
       "| AAACCCACATGAGTAA-1-6 | P_CTRL_24W_M_01 | 1543 | 7.342132 | 2954 | 7.991254 | 13.84563 | 12 | 2.564949 | 0.4062288 |  2 | ⋯ | NA | 108.5 | 148.5 | 115.7 | 154 | 110.6 | 163 | False | Pericytes                 | Pericytes         |\n",
       "| AAACGAACATAATCGC-1-6 | P_CTRL_24W_M_01 |  922 | 6.827629 | 1347 | 7.206377 | 12.10097 |  4 | 1.609438 | 0.2969562 |  6 | ⋯ | NA | 108.5 | 148.5 | 115.7 | 154 | 110.6 | 163 | False | Fibroblasts_Bmper+_Nrxn1+ | Fibroblasts       |\n",
       "| AAACGCTGTATGGTTC-1-6 | P_CTRL_24W_M_01 | 1046 | 6.953684 | 1610 | 7.384610 | 10.74534 |  7 | 2.079442 | 0.4347826 |  3 | ⋯ | NA | 108.5 | 148.5 | 115.7 | 154 | 110.6 | 163 | False | ECs_Cap                   | Endothelial_Cells |\n",
       "| AAACGCTTCATGCCCT-1-6 | P_CTRL_24W_M_01 | 2055 | 7.628518 | 4352 | 8.378621 | 12.59191 | 12 | 2.564949 | 0.2757353 |  8 | ⋯ | NA | 108.5 | 148.5 | 115.7 | 154 | 110.6 | 163 | False | Adipocytes_Brown          | Adipocytes        |\n",
       "\n"
      ],
      "text/plain": [
       "                     sample_id       n_genes_by_counts log1p_n_genes_by_counts\n",
       "AAACCCAAGGTTACCT-1-6 P_CTRL_24W_M_01  978              6.886532               \n",
       "AAACCCACAGGCCCTA-1-6 P_CTRL_24W_M_01 2561              7.848543               \n",
       "AAACCCACATGAGTAA-1-6 P_CTRL_24W_M_01 1543              7.342132               \n",
       "AAACGAACATAATCGC-1-6 P_CTRL_24W_M_01  922              6.827629               \n",
       "AAACGCTGTATGGTTC-1-6 P_CTRL_24W_M_01 1046              6.953684               \n",
       "AAACGCTTCATGCCCT-1-6 P_CTRL_24W_M_01 2055              7.628518               \n",
       "                     total_counts log1p_total_counts pct_counts_in_top_20_genes\n",
       "AAACCCAAGGTTACCT-1-6 1395         7.241366           10.46595                  \n",
       "AAACCCACAGGCCCTA-1-6 6279         8.745125            9.60344                  \n",
       "AAACCCACATGAGTAA-1-6 2954         7.991254           13.84563                  \n",
       "AAACGAACATAATCGC-1-6 1347         7.206377           12.10097                  \n",
       "AAACGCTGTATGGTTC-1-6 1610         7.384610           10.74534                  \n",
       "AAACGCTTCATGCCCT-1-6 4352         8.378621           12.59191                  \n",
       "                     total_counts_mt log1p_total_counts_mt pct_counts_mt\n",
       "AAACCCAAGGTTACCT-1-6  6              1.945910              0.4301075    \n",
       "AAACCCACAGGCCCTA-1-6  7              2.079442              0.1114827    \n",
       "AAACCCACATGAGTAA-1-6 12              2.564949              0.4062288    \n",
       "AAACGAACATAATCGC-1-6  4              1.609438              0.2969562    \n",
       "AAACGCTGTATGGTTC-1-6  7              2.079442              0.4347826    \n",
       "AAACGCTTCATGCCCT-1-6 12              2.564949              0.2757353    \n",
       "                     total_counts_ribo ⋯ systolic_bp_7W MAP_9W systolic_bp_9W\n",
       "AAACCCAAGGTTACCT-1-6  2                ⋯ NA             108.5  148.5         \n",
       "AAACCCACAGGCCCTA-1-6 10                ⋯ NA             108.5  148.5         \n",
       "AAACCCACATGAGTAA-1-6  2                ⋯ NA             108.5  148.5         \n",
       "AAACGAACATAATCGC-1-6  6                ⋯ NA             108.5  148.5         \n",
       "AAACGCTGTATGGTTC-1-6  3                ⋯ NA             108.5  148.5         \n",
       "AAACGCTTCATGCCCT-1-6  8                ⋯ NA             108.5  148.5         \n",
       "                     MAP_16W systolic_bp_16W MAP_24W systolic_bp_24W doublet\n",
       "AAACCCAAGGTTACCT-1-6 115.7   154             110.6   163             False  \n",
       "AAACCCACAGGCCCTA-1-6 115.7   154             110.6   163             False  \n",
       "AAACCCACATGAGTAA-1-6 115.7   154             110.6   163             False  \n",
       "AAACGAACATAATCGC-1-6 115.7   154             110.6   163             False  \n",
       "AAACGCTGTATGGTTC-1-6 115.7   154             110.6   163             False  \n",
       "AAACGCTTCATGCCCT-1-6 115.7   154             110.6   163             False  \n",
       "                     celltype                  celltype_broad   \n",
       "AAACCCAAGGTTACCT-1-6 ECs_Lymph                 Endothelial_Cells\n",
       "AAACCCACAGGCCCTA-1-6 Adipocytes_Brown          Adipocytes       \n",
       "AAACCCACATGAGTAA-1-6 Pericytes                 Pericytes        \n",
       "AAACGAACATAATCGC-1-6 Fibroblasts_Bmper+_Nrxn1+ Fibroblasts      \n",
       "AAACGCTGTATGGTTC-1-6 ECs_Cap                   Endothelial_Cells\n",
       "AAACGCTTCATGCCCT-1-6 Adipocytes_Brown          Adipocytes       "
      ]
     },
     "metadata": {},
     "output_type": "display_data"
    }
   ],
   "source": [
    "head(pvat_24weeks_control_male_metadata)"
   ]
  },
  {
   "cell_type": "code",
   "execution_count": 7,
   "id": "6f4ae82e-9a05-444f-9706-cc76973c9ef1",
   "metadata": {},
   "outputs": [
    {
     "name": "stderr",
     "output_type": "stream",
     "text": [
      "Warning message:\n",
      "“Feature names cannot have underscores ('_'), replacing with dashes ('-')”\n",
      "Warning message:\n",
      "“Data is of class matrix. Coercing to dgCMatrix.”\n"
     ]
    }
   ],
   "source": [
    "seuratObj = CreateSeuratObject(counts = t(pvat_24weeks_control_male_expr), meta.data = pvat_24weeks_control_male_metadata)  # counts should be a cell by gene matrix and not gene by cell"
   ]
  },
  {
   "cell_type": "code",
   "execution_count": 8,
   "id": "a273c6e3-6e7e-4ce0-ae6b-09d61f6014c1",
   "metadata": {},
   "outputs": [
    {
     "data": {
      "text/plain": [
       "\n",
       "       Adipocytes Endothelial_Cells       Fibroblasts      Immune_Cells \n",
       "             3547               588               788               413 \n",
       "Mesothelial_Cells    Neuronal_Cells         Pericytes              SMCs \n",
       "              212                 4               288                 3 "
      ]
     },
     "metadata": {},
     "output_type": "display_data"
    }
   ],
   "source": [
    "table(seuratObj@meta.data$celltype_broad)"
   ]
  },
  {
   "cell_type": "code",
   "execution_count": 8,
   "id": "2ac8158a-e751-45ab-b702-55dd4ff0a99f",
   "metadata": {},
   "outputs": [],
   "source": [
    "cell_data <- list(seuratObj = seuratObj,\n",
    "                  expression_matrix = t(pvat_24weeks_control_male_expr),\n",
    "                  transposed_expression_matrix = pvat_24weeks_control_male_expr\n",
    "                 )"
   ]
  },
  {
   "cell_type": "code",
   "execution_count": 9,
   "id": "3cd24755-a6ad-42d3-9102-021f1486aabc",
   "metadata": {},
   "outputs": [],
   "source": [
    "# List nicheNet analysis components using mouse preknowledge cell-cell communication data.\n",
    "nichenet_networks <- list(\n",
    "  lr_network = lr_network,\n",
    "  ligand_target_matrix = ligand_target_matrix,\n",
    "  weighted_networks = weighted_networks,\n",
    "  ligand_tf_matrix = ligand_tf_matrix,\n",
    "  sig_network = sig_network,\n",
    "  gr_network = gr_network,\n",
    "  weighted_networks_lr = weighted_networks_lr\n",
    ")"
   ]
  },
  {
   "cell_type": "code",
   "execution_count": null,
   "id": "1191d714-1440-4d18-957b-7a60dd6d930d",
   "metadata": {},
   "outputs": [],
   "source": []
  },
  {
   "cell_type": "code",
   "execution_count": 10,
   "id": "e745658e-593f-4976-a092-b9c24c2c95ce",
   "metadata": {},
   "outputs": [],
   "source": [
    "# Identify genes with high expression levels across cells.\n",
    "highly_expressed_genes <- function(expression_matrix, cell_ids) {\n",
    "    \n",
    "    transposed_expression_matrix = t(expression_matrix)\n",
    "    \n",
    "    genes <- transposed_expression_matrix[cell_ids, ] %>%\n",
    "    apply(2, function(x) {10 * (2^x - 1)}) %>%\n",
    "    apply(2, function(x) {log2(mean(x) + 1)}) %>%\n",
    "    .[. >= 2] %>%\n",
    "    names()\n",
    "  return(genes)\n",
    "    \n",
    "    }"
   ]
  },
  {
   "cell_type": "code",
   "execution_count": 11,
   "id": "9999996a-0669-4863-9a45-6fb557ca1cd5",
   "metadata": {},
   "outputs": [],
   "source": [
    "# Generate a heatmap for active ligand-target interactions using specified ligands and targets.\n",
    "ligand_target_heatmap <- function(active_ligand_target_links_df, ligand_target_matrix, best_upstream_ligands) {\n",
    "\n",
    "    active_ligand_target_links = prepare_ligand_target_visualization(ligand_target_df = active_ligand_target_links_df, ligand_target_matrix = ligand_target_matrix, cutoff = 0.33)\n",
    "    order_ligands = intersect(best_upstream_ligands, colnames(active_ligand_target_links)) %>% rev() %>% make.names()\n",
    "    order_targets = active_ligand_target_links_df$target %>% unique() %>% intersect(rownames(active_ligand_target_links)) %>% make.names()\n",
    "    rownames(active_ligand_target_links) = rownames(active_ligand_target_links) %>% make.names() # make.names() for heatmap visualization of genes like H2-T23\n",
    "    colnames(active_ligand_target_links) = colnames(active_ligand_target_links) %>% make.names() # make.names() for heatmap visualization of genes like H2-T23\n",
    "    vis_ligand_target = active_ligand_target_links[order_targets,order_ligands] %>% t()\n",
    "    options(repr.plot.width=20, repr.plot.height=10)\n",
    "    #p_ligand_target_network = vis_ligand_target %>% make_heatmap_ggplot(\"Prioritized ligands\",\"Predicted target genes\", color = \"purple\",legend_position = \"top\", x_axis_position = \"top\",legend_title = \"Regulatory potential\")  + theme(axis.text.x = element_text(face = \"italic\")) + scale_fill_gradient2(low = \"whitesmoke\",  high = \"purple\", breaks = c(0,0.0045,0.0090))\n",
    "    #p_ligand_target_network = p_ligand_target_network + theme(axis.text.x = element_text(face = \"italic\", size = 20),\n",
    "    #                                    axis.text.y = element_text(size = 20),\n",
    "    #                                   axis.title.x = element_text(size = 20),\n",
    "    #                                   axis.title.y = element_text(size = 20),\n",
    "    #                                   plot.title = element_text(hjust = 0.5))\n",
    "\n",
    "    return(vis_ligand_target)\n",
    "    \n",
    "}"
   ]
  },
  {
   "cell_type": "code",
   "execution_count": 12,
   "id": "508ef763-1ac4-4074-87f5-152cd63b6691",
   "metadata": {},
   "outputs": [],
   "source": [
    "# Construct and order a heatmap for top ligand-receptor interactions\n",
    "ligand_receptor_heatmap <- function(lr_network, best_upstream_ligands, expressed_receptors, weighted_networks_lr) {\n",
    "\n",
    "    lr_network_top = lr_network %>% filter(from %in% best_upstream_ligands & to %in% expressed_receptors) %>% distinct(from,to)\n",
    "    best_upstream_receptors = lr_network_top %>% pull(to) %>% unique()\n",
    "    lr_network_top_df_large = weighted_networks_lr %>% filter(from %in% best_upstream_ligands & to %in% best_upstream_receptors)\n",
    "    lr_network_top_df = lr_network_top_df_large %>% spread(\"from\",\"weight\",fill = 0)\n",
    "    lr_network_top_matrix = lr_network_top_df %>% select(-to) %>% as.matrix() %>% magrittr::set_rownames(lr_network_top_df$to)\n",
    "    dist_receptors = dist(lr_network_top_matrix, method = \"binary\")\n",
    "    hclust_receptors = hclust(dist_receptors, method = \"ward.D2\")\n",
    "    order_receptors = hclust_receptors$labels[hclust_receptors$order]\n",
    "    dist_ligands = dist(lr_network_top_matrix %>% t(), method = \"binary\")\n",
    "    hclust_ligands = hclust(dist_ligands, method = \"ward.D2\")\n",
    "    order_ligands_receptor = hclust_ligands$labels[hclust_ligands$order]\n",
    "    order_receptors = order_receptors %>% intersect(rownames(lr_network_top_matrix))\n",
    "    order_ligands_receptor = order_ligands_receptor %>% intersect(colnames(lr_network_top_matrix))\n",
    "    vis_ligand_receptor_network = lr_network_top_matrix[order_receptors, order_ligands_receptor]\n",
    "    rownames(vis_ligand_receptor_network) = order_receptors %>% make.names()\n",
    "    colnames(vis_ligand_receptor_network) = order_ligands_receptor %>% make.names()\n",
    "    options(repr.plot.width=20, repr.plot.height=10)\n",
    "    #p_ligand_receptor_network = vis_ligand_receptor_network %>% t() %>% make_heatmap_ggplot(\"Ligands\",\"Receptors\", color = \"mediumvioletred\", x_axis_position = \"top\",legend_title = \"Prior interaction potential\")\n",
    "    #p_ligand_receptor_network = p_ligand_receptor_network + theme(axis.text.x = element_text(face = \"italic\", size = 20), \n",
    "    #                                    axis.text.y = element_text(size = 20),\n",
    "    #                                   axis.title.x = element_text(size = 20),\n",
    "    #                                   axis.title.y = element_text(size = 20)) \n",
    "    return(vis_ligand_receptor_network)\n",
    "    }"
   ]
  },
  {
   "cell_type": "code",
   "execution_count": 13,
   "id": "e77148cb-c445-45cf-b6a2-6d3b1064f2a6",
   "metadata": {},
   "outputs": [],
   "source": [
    "# Analyze ligand-receptor activities between specified source and target cell types using nicheNet networks and cell data.\n",
    "\n",
    "ligand_receptor_activites <- function(source_celltype, target_celltype, cell_data, nichenet_networks) {\n",
    "    \n",
    "    lr_network = nichenet_networks$lr_network\n",
    "    ligand_target_matrix = nichenet_networks$ligand_target_matrix\n",
    "    weighted_networks = nichenet_networks$weighted_networks\n",
    "    ligand_tf_matrix = nichenet_networks$ligand_tf_matrix\n",
    "    sig_network = nichenet_networks$sig_network\n",
    "    gr_network = nichenet_networks$gr_network\n",
    "    weighted_networks_lr = nichenet_networks$weighted_networks_lr\n",
    "    seuratObj = cell_data$seuratObj\n",
    "    expression_matrix = cell_data$expression_matrix\n",
    "    transposed_expression_matrix = cell_data$transposed_expression_matrix\n",
    "\n",
    "    n = 500\n",
    "    #number_of_target_genes = n\n",
    "    \n",
    "    source_cell_ids = WhichCells(seuratObj, expression = celltype_broad == source_celltype)\n",
    "    target_cell_ids = WhichCells(seuratObj, expression = celltype_broad == target_celltype)\n",
    "    \n",
    "    source_genes = highly_expressed_genes(expression_matrix, source_cell_ids)\n",
    "    target_genes = highly_expressed_genes(expression_matrix, target_cell_ids)\n",
    "    #n = length(target_genes)-1\n",
    "    \n",
    "    Idents(seuratObj) = seuratObj$celltype\n",
    "    \n",
    "    background_expressed_genes = target_genes %>% .[. %in% rownames(ligand_target_matrix)]\n",
    "    ligands = lr_network %>% pull(from) %>% unique()\n",
    "    expressed_ligands = intersect(ligands, source_genes)\n",
    "    receptors = lr_network %>% pull(to) %>% unique()\n",
    "    expressed_receptors = intersect(receptors, target_genes)\n",
    "    potential_ligands = lr_network %>% filter(from %in% expressed_ligands & to %in% expressed_receptors) %>% pull(from) %>% unique()\n",
    "    \n",
    "    ligand_activities = predict_ligand_activities(geneset = (target_genes[0:n]), background_expressed_genes = background_expressed_genes, ligand_target_matrix = ligand_target_matrix, potential_ligands = potential_ligands)\n",
    "    ligand_activities = ligand_activities %>% arrange(-aupr_corrected)\n",
    "    best_upstream_ligands = ligand_activities %>% arrange(-aupr_corrected) %>% pull(test_ligand)\n",
    "    best_upstream_ligands = best_upstream_ligands %>% intersect(expressed_ligands)\n",
    "\n",
    "    \n",
    "    ligand_expression_tbl = tibble(\n",
    "    ligand = best_upstream_ligands, \n",
    "    source = transposed_expression_matrix[source_cell_ids, best_upstream_ligands] %>% apply(2,function(x){10*(2**x - 1)}) %>% apply(2,function(x){log2(mean(x) + 1)}))\n",
    "\n",
    "    general_ligands = ligand_expression_tbl %>% pull(ligand)\n",
    "    \n",
    "    ligand_type_indication_df = tibble(\n",
    "                                ligand_type = c(rep(source_celltype, times = general_ligands %>% length())),\n",
    "                                ligand = c(general_ligands))\n",
    "\n",
    "\n",
    "    active_ligand_target_links_df = best_upstream_ligands %>% lapply(get_weighted_ligand_target_links,geneset = target_genes[0:n], ligand_target_matrix = ligand_target_matrix, n = 250) %>% bind_rows()\n",
    "    active_ligand_target_links_df = active_ligand_target_links_df %>% mutate(target_type = target_celltype) %>% inner_join(ligand_type_indication_df) \n",
    "    active_ligand_target_links_df = na.omit(active_ligand_target_links_df)\n",
    "    \n",
    "\n",
    "    p_ligand_target_network = ligand_target_heatmap(active_ligand_target_links_df, ligand_target_matrix, best_upstream_ligands)\n",
    "    p_ligand_receptor_network = ligand_receptor_heatmap(lr_network, best_upstream_ligands, expressed_receptors, weighted_networks_lr)\n",
    "\n",
    "\n",
    "\n",
    "\n",
    "    return(list(ligand_activities = ligand_activities, \n",
    "            p_ligand_target_network = p_ligand_target_network, \n",
    "            p_ligand_receptor_network = p_ligand_receptor_network))\n",
    "\n",
    "\n",
    "}"
   ]
  },
  {
   "cell_type": "raw",
   "id": "608b2fa5-00ba-460b-824f-eb7b8eca3faf",
   "metadata": {},
   "source": []
  },
  {
   "cell_type": "code",
   "execution_count": 14,
   "id": "41fe328f-45ad-4644-879c-11f9d887673c",
   "metadata": {},
   "outputs": [
    {
     "data": {
      "text/plain": [
       "\n",
       "       Adipocytes Endothelial_Cells       Fibroblasts      Immune_Cells \n",
       "             7500              2422               660               324 \n",
       "Mesothelial_Cells    Neuronal_Cells         Pericytes              SMCs \n",
       "              125                19               376                31 "
      ]
     },
     "metadata": {},
     "output_type": "display_data"
    }
   ],
   "source": [
    "table(seuratObj@meta.data$celltype_broad)"
   ]
  },
  {
   "cell_type": "code",
   "execution_count": 15,
   "id": "a8a09e0d-9df1-4764-b2a1-d926368805c1",
   "metadata": {},
   "outputs": [
    {
     "name": "stdout",
     "output_type": "stream",
     "text": [
      "[1] \"Number of cell types: 8\"\n"
     ]
    }
   ],
   "source": [
    "cell_types <- c(\n",
    "  \"Adipocytes\",       \n",
    "  \"Endothelial_Cells\",     \n",
    "  \"Fibroblasts\",            \n",
    "  \"Immune_Cells\",  \n",
    "  \"Mesothelial_Cells\",  \n",
    "  \"Neuronal_Cells\",      \n",
    "  \"Pericytes\",   \n",
    "  \"SMCs\" \n",
    ")\n",
    "\n",
    "num <- length(cell_types)\n",
    "print(paste(\"Number of cell types:\", num))"
   ]
  },
  {
   "cell_type": "code",
   "execution_count": 16,
   "id": "39feaa15-5a77-4abf-9595-0f3e29d42ae9",
   "metadata": {
    "scrolled": true
   },
   "outputs": [
    {
     "name": "stdout",
     "output_type": "stream",
     "text": [
      "  |                                                  |   0%"
     ]
    },
    {
     "name": "stderr",
     "output_type": "stream",
     "text": [
      "\u001b[1m\u001b[22mJoining with `by = join_by(ligand)`\n"
     ]
    },
    {
     "name": "stdout",
     "output_type": "stream",
     "text": [
      "  |==                                                |   3%"
     ]
    },
    {
     "name": "stderr",
     "output_type": "stream",
     "text": [
      "\u001b[1m\u001b[22mJoining with `by = join_by(ligand)`\n"
     ]
    },
    {
     "name": "stdout",
     "output_type": "stream",
     "text": [
      "  |==                                                |   5%"
     ]
    },
    {
     "name": "stderr",
     "output_type": "stream",
     "text": [
      "\u001b[1m\u001b[22mJoining with `by = join_by(ligand)`\n"
     ]
    },
    {
     "name": "stdout",
     "output_type": "stream",
     "text": [
      "  |===                                               |   6%"
     ]
    },
    {
     "name": "stderr",
     "output_type": "stream",
     "text": [
      "\u001b[1m\u001b[22mJoining with `by = join_by(ligand)`\n"
     ]
    },
    {
     "name": "stdout",
     "output_type": "stream",
     "text": [
      "  |====                                              |   8%"
     ]
    },
    {
     "name": "stderr",
     "output_type": "stream",
     "text": [
      "\u001b[1m\u001b[22mJoining with `by = join_by(ligand)`\n"
     ]
    },
    {
     "name": "stdout",
     "output_type": "stream",
     "text": [
      "  |=====                                             |   9%"
     ]
    },
    {
     "name": "stderr",
     "output_type": "stream",
     "text": [
      "\u001b[1m\u001b[22mJoining with `by = join_by(ligand)`\n"
     ]
    },
    {
     "name": "stdout",
     "output_type": "stream",
     "text": [
      "  |=====                                             |  11%"
     ]
    },
    {
     "name": "stderr",
     "output_type": "stream",
     "text": [
      "\u001b[1m\u001b[22mJoining with `by = join_by(ligand)`\n"
     ]
    },
    {
     "name": "stdout",
     "output_type": "stream",
     "text": [
      "  |======                                            |  12%"
     ]
    },
    {
     "name": "stderr",
     "output_type": "stream",
     "text": [
      "\u001b[1m\u001b[22mJoining with `by = join_by(ligand)`\n"
     ]
    },
    {
     "name": "stdout",
     "output_type": "stream",
     "text": [
      "  |=======                                           |  14%"
     ]
    },
    {
     "name": "stderr",
     "output_type": "stream",
     "text": [
      "\u001b[1m\u001b[22mJoining with `by = join_by(ligand)`\n"
     ]
    },
    {
     "name": "stdout",
     "output_type": "stream",
     "text": [
      "  |========                                          |  16%"
     ]
    },
    {
     "name": "stderr",
     "output_type": "stream",
     "text": [
      "\u001b[1m\u001b[22mJoining with `by = join_by(ligand)`\n"
     ]
    },
    {
     "name": "stdout",
     "output_type": "stream",
     "text": [
      "  |=========                                         |  17%"
     ]
    },
    {
     "name": "stderr",
     "output_type": "stream",
     "text": [
      "\u001b[1m\u001b[22mJoining with `by = join_by(ligand)`\n"
     ]
    },
    {
     "name": "stdout",
     "output_type": "stream",
     "text": [
      "  |=========                                         |  19%"
     ]
    },
    {
     "name": "stderr",
     "output_type": "stream",
     "text": [
      "\u001b[1m\u001b[22mJoining with `by = join_by(ligand)`\n"
     ]
    },
    {
     "name": "stdout",
     "output_type": "stream",
     "text": [
      "  |==========                                        |  20%"
     ]
    },
    {
     "name": "stderr",
     "output_type": "stream",
     "text": [
      "\u001b[1m\u001b[22mJoining with `by = join_by(ligand)`\n"
     ]
    },
    {
     "name": "stdout",
     "output_type": "stream",
     "text": [
      "  |===========                                       |  22%"
     ]
    },
    {
     "name": "stderr",
     "output_type": "stream",
     "text": [
      "\u001b[1m\u001b[22mJoining with `by = join_by(ligand)`\n"
     ]
    },
    {
     "name": "stdout",
     "output_type": "stream",
     "text": [
      "  |============                                      |  23%"
     ]
    },
    {
     "name": "stderr",
     "output_type": "stream",
     "text": [
      "\u001b[1m\u001b[22mJoining with `by = join_by(ligand)`\n"
     ]
    },
    {
     "name": "stdout",
     "output_type": "stream",
     "text": [
      "  |============                                      |  25%"
     ]
    },
    {
     "name": "stderr",
     "output_type": "stream",
     "text": [
      "\u001b[1m\u001b[22mJoining with `by = join_by(ligand)`\n"
     ]
    },
    {
     "name": "stdout",
     "output_type": "stream",
     "text": [
      "  |=============                                     |  27%"
     ]
    },
    {
     "name": "stderr",
     "output_type": "stream",
     "text": [
      "\u001b[1m\u001b[22mJoining with `by = join_by(ligand)`\n"
     ]
    },
    {
     "name": "stdout",
     "output_type": "stream",
     "text": [
      "  |==============                                    |  28%"
     ]
    },
    {
     "name": "stderr",
     "output_type": "stream",
     "text": [
      "\u001b[1m\u001b[22mJoining with `by = join_by(ligand)`\n"
     ]
    },
    {
     "name": "stdout",
     "output_type": "stream",
     "text": [
      "  |===============                                   |  30%"
     ]
    },
    {
     "name": "stderr",
     "output_type": "stream",
     "text": [
      "\u001b[1m\u001b[22mJoining with `by = join_by(ligand)`\n"
     ]
    },
    {
     "name": "stdout",
     "output_type": "stream",
     "text": [
      "  |================                                  |  31%"
     ]
    },
    {
     "name": "stderr",
     "output_type": "stream",
     "text": [
      "\u001b[1m\u001b[22mJoining with `by = join_by(ligand)`\n"
     ]
    },
    {
     "name": "stdout",
     "output_type": "stream",
     "text": [
      "  |================                                  |  33%"
     ]
    },
    {
     "name": "stderr",
     "output_type": "stream",
     "text": [
      "\u001b[1m\u001b[22mJoining with `by = join_by(ligand)`\n"
     ]
    },
    {
     "name": "stdout",
     "output_type": "stream",
     "text": [
      "  |=================                                 |  34%"
     ]
    },
    {
     "name": "stderr",
     "output_type": "stream",
     "text": [
      "\u001b[1m\u001b[22mJoining with `by = join_by(ligand)`\n"
     ]
    },
    {
     "name": "stdout",
     "output_type": "stream",
     "text": [
      "  |==================                                |  36%"
     ]
    },
    {
     "name": "stderr",
     "output_type": "stream",
     "text": [
      "\u001b[1m\u001b[22mJoining with `by = join_by(ligand)`\n"
     ]
    },
    {
     "name": "stdout",
     "output_type": "stream",
     "text": [
      "  |===================                               |  38%"
     ]
    },
    {
     "name": "stderr",
     "output_type": "stream",
     "text": [
      "\u001b[1m\u001b[22mJoining with `by = join_by(ligand)`\n"
     ]
    },
    {
     "name": "stdout",
     "output_type": "stream",
     "text": [
      "  |====================                              |  39%"
     ]
    },
    {
     "name": "stderr",
     "output_type": "stream",
     "text": [
      "\u001b[1m\u001b[22mJoining with `by = join_by(ligand)`\n"
     ]
    },
    {
     "name": "stdout",
     "output_type": "stream",
     "text": [
      "  |====================                              |  41%"
     ]
    },
    {
     "name": "stderr",
     "output_type": "stream",
     "text": [
      "\u001b[1m\u001b[22mJoining with `by = join_by(ligand)`\n"
     ]
    },
    {
     "name": "stdout",
     "output_type": "stream",
     "text": [
      "  |=====================                             |  42%"
     ]
    },
    {
     "name": "stderr",
     "output_type": "stream",
     "text": [
      "\u001b[1m\u001b[22mJoining with `by = join_by(ligand)`\n"
     ]
    },
    {
     "name": "stdout",
     "output_type": "stream",
     "text": [
      "  |======================                            |  44%"
     ]
    },
    {
     "name": "stderr",
     "output_type": "stream",
     "text": [
      "\u001b[1m\u001b[22mJoining with `by = join_by(ligand)`\n"
     ]
    },
    {
     "name": "stdout",
     "output_type": "stream",
     "text": [
      "  |=======================                           |  45%"
     ]
    },
    {
     "name": "stderr",
     "output_type": "stream",
     "text": [
      "\u001b[1m\u001b[22mJoining with `by = join_by(ligand)`\n"
     ]
    },
    {
     "name": "stdout",
     "output_type": "stream",
     "text": [
      "  |=======================                           |  47%"
     ]
    },
    {
     "name": "stderr",
     "output_type": "stream",
     "text": [
      "\u001b[1m\u001b[22mJoining with `by = join_by(ligand)`\n"
     ]
    },
    {
     "name": "stdout",
     "output_type": "stream",
     "text": [
      "  |========================                          |  48%"
     ]
    },
    {
     "name": "stderr",
     "output_type": "stream",
     "text": [
      "\u001b[1m\u001b[22mJoining with `by = join_by(ligand)`\n"
     ]
    },
    {
     "name": "stdout",
     "output_type": "stream",
     "text": [
      "  |=========================                         |  50%"
     ]
    },
    {
     "name": "stderr",
     "output_type": "stream",
     "text": [
      "\u001b[1m\u001b[22mJoining with `by = join_by(ligand)`\n"
     ]
    },
    {
     "name": "stdout",
     "output_type": "stream",
     "text": [
      "  |==========================                        |  52%"
     ]
    },
    {
     "name": "stderr",
     "output_type": "stream",
     "text": [
      "\u001b[1m\u001b[22mJoining with `by = join_by(ligand)`\n"
     ]
    },
    {
     "name": "stdout",
     "output_type": "stream",
     "text": [
      "  |===========================                       |  53%"
     ]
    },
    {
     "name": "stderr",
     "output_type": "stream",
     "text": [
      "\u001b[1m\u001b[22mJoining with `by = join_by(ligand)`\n"
     ]
    },
    {
     "name": "stdout",
     "output_type": "stream",
     "text": [
      "  |===========================                       |  55%"
     ]
    },
    {
     "name": "stderr",
     "output_type": "stream",
     "text": [
      "\u001b[1m\u001b[22mJoining with `by = join_by(ligand)`\n"
     ]
    },
    {
     "name": "stdout",
     "output_type": "stream",
     "text": [
      "  |============================                      |  56%"
     ]
    },
    {
     "name": "stderr",
     "output_type": "stream",
     "text": [
      "\u001b[1m\u001b[22mJoining with `by = join_by(ligand)`\n"
     ]
    },
    {
     "name": "stdout",
     "output_type": "stream",
     "text": [
      "  |=============================                     |  58%"
     ]
    },
    {
     "name": "stderr",
     "output_type": "stream",
     "text": [
      "\u001b[1m\u001b[22mJoining with `by = join_by(ligand)`\n"
     ]
    },
    {
     "name": "stdout",
     "output_type": "stream",
     "text": [
      "  |==============================                    |  59%"
     ]
    },
    {
     "name": "stderr",
     "output_type": "stream",
     "text": [
      "\u001b[1m\u001b[22mJoining with `by = join_by(ligand)`\n"
     ]
    },
    {
     "name": "stdout",
     "output_type": "stream",
     "text": [
      "  |==============================                    |  61%"
     ]
    },
    {
     "name": "stderr",
     "output_type": "stream",
     "text": [
      "\u001b[1m\u001b[22mJoining with `by = join_by(ligand)`\n"
     ]
    },
    {
     "name": "stdout",
     "output_type": "stream",
     "text": [
      "  |===============================                   |  62%"
     ]
    },
    {
     "name": "stderr",
     "output_type": "stream",
     "text": [
      "\u001b[1m\u001b[22mJoining with `by = join_by(ligand)`\n"
     ]
    },
    {
     "name": "stdout",
     "output_type": "stream",
     "text": [
      "  |================================                  |  64%"
     ]
    },
    {
     "name": "stderr",
     "output_type": "stream",
     "text": [
      "\u001b[1m\u001b[22mJoining with `by = join_by(ligand)`\n"
     ]
    },
    {
     "name": "stdout",
     "output_type": "stream",
     "text": [
      "  |=================================                 |  66%"
     ]
    },
    {
     "name": "stderr",
     "output_type": "stream",
     "text": [
      "\u001b[1m\u001b[22mJoining with `by = join_by(ligand)`\n"
     ]
    },
    {
     "name": "stdout",
     "output_type": "stream",
     "text": [
      "  |==================================                |  67%"
     ]
    },
    {
     "name": "stderr",
     "output_type": "stream",
     "text": [
      "\u001b[1m\u001b[22mJoining with `by = join_by(ligand)`\n"
     ]
    },
    {
     "name": "stdout",
     "output_type": "stream",
     "text": [
      "  |==================================                |  69%"
     ]
    },
    {
     "name": "stderr",
     "output_type": "stream",
     "text": [
      "\u001b[1m\u001b[22mJoining with `by = join_by(ligand)`\n"
     ]
    },
    {
     "name": "stdout",
     "output_type": "stream",
     "text": [
      "  |===================================               |  70%"
     ]
    },
    {
     "name": "stderr",
     "output_type": "stream",
     "text": [
      "\u001b[1m\u001b[22mJoining with `by = join_by(ligand)`\n"
     ]
    },
    {
     "name": "stdout",
     "output_type": "stream",
     "text": [
      "  |====================================              |  72%"
     ]
    },
    {
     "name": "stderr",
     "output_type": "stream",
     "text": [
      "\u001b[1m\u001b[22mJoining with `by = join_by(ligand)`\n"
     ]
    },
    {
     "name": "stdout",
     "output_type": "stream",
     "text": [
      "  |=====================================             |  73%"
     ]
    },
    {
     "name": "stderr",
     "output_type": "stream",
     "text": [
      "\u001b[1m\u001b[22mJoining with `by = join_by(ligand)`\n"
     ]
    },
    {
     "name": "stdout",
     "output_type": "stream",
     "text": [
      "  |======================================            |  75%"
     ]
    },
    {
     "name": "stderr",
     "output_type": "stream",
     "text": [
      "\u001b[1m\u001b[22mJoining with `by = join_by(ligand)`\n"
     ]
    },
    {
     "name": "stdout",
     "output_type": "stream",
     "text": [
      "  |======================================            |  77%"
     ]
    },
    {
     "name": "stderr",
     "output_type": "stream",
     "text": [
      "\u001b[1m\u001b[22mJoining with `by = join_by(ligand)`\n"
     ]
    },
    {
     "name": "stdout",
     "output_type": "stream",
     "text": [
      "  |=======================================           |  78%"
     ]
    },
    {
     "name": "stderr",
     "output_type": "stream",
     "text": [
      "\u001b[1m\u001b[22mJoining with `by = join_by(ligand)`\n"
     ]
    },
    {
     "name": "stdout",
     "output_type": "stream",
     "text": [
      "  |========================================          |  80%"
     ]
    },
    {
     "name": "stderr",
     "output_type": "stream",
     "text": [
      "\u001b[1m\u001b[22mJoining with `by = join_by(ligand)`\n"
     ]
    },
    {
     "name": "stdout",
     "output_type": "stream",
     "text": [
      "  |=========================================         |  81%"
     ]
    },
    {
     "name": "stderr",
     "output_type": "stream",
     "text": [
      "\u001b[1m\u001b[22mJoining with `by = join_by(ligand)`\n"
     ]
    },
    {
     "name": "stdout",
     "output_type": "stream",
     "text": [
      "  |=========================================         |  83%"
     ]
    },
    {
     "name": "stderr",
     "output_type": "stream",
     "text": [
      "\u001b[1m\u001b[22mJoining with `by = join_by(ligand)`\n"
     ]
    },
    {
     "name": "stdout",
     "output_type": "stream",
     "text": [
      "  |==========================================        |  84%"
     ]
    },
    {
     "name": "stderr",
     "output_type": "stream",
     "text": [
      "\u001b[1m\u001b[22mJoining with `by = join_by(ligand)`\n"
     ]
    },
    {
     "name": "stdout",
     "output_type": "stream",
     "text": [
      "  |===========================================       |  86%"
     ]
    },
    {
     "name": "stderr",
     "output_type": "stream",
     "text": [
      "\u001b[1m\u001b[22mJoining with `by = join_by(ligand)`\n"
     ]
    },
    {
     "name": "stdout",
     "output_type": "stream",
     "text": [
      "  |============================================      |  88%"
     ]
    },
    {
     "name": "stderr",
     "output_type": "stream",
     "text": [
      "\u001b[1m\u001b[22mJoining with `by = join_by(ligand)`\n"
     ]
    },
    {
     "name": "stdout",
     "output_type": "stream",
     "text": [
      "  |=============================================     |  89%"
     ]
    },
    {
     "name": "stderr",
     "output_type": "stream",
     "text": [
      "\u001b[1m\u001b[22mJoining with `by = join_by(ligand)`\n"
     ]
    },
    {
     "name": "stdout",
     "output_type": "stream",
     "text": [
      "  |=============================================     |  91%"
     ]
    },
    {
     "name": "stderr",
     "output_type": "stream",
     "text": [
      "\u001b[1m\u001b[22mJoining with `by = join_by(ligand)`\n"
     ]
    },
    {
     "name": "stdout",
     "output_type": "stream",
     "text": [
      "  |==============================================    |  92%"
     ]
    },
    {
     "name": "stderr",
     "output_type": "stream",
     "text": [
      "\u001b[1m\u001b[22mJoining with `by = join_by(ligand)`\n"
     ]
    },
    {
     "name": "stdout",
     "output_type": "stream",
     "text": [
      "  |===============================================   |  94%"
     ]
    },
    {
     "name": "stderr",
     "output_type": "stream",
     "text": [
      "\u001b[1m\u001b[22mJoining with `by = join_by(ligand)`\n"
     ]
    },
    {
     "name": "stdout",
     "output_type": "stream",
     "text": [
      "  |================================================  |  95%"
     ]
    },
    {
     "name": "stderr",
     "output_type": "stream",
     "text": [
      "\u001b[1m\u001b[22mJoining with `by = join_by(ligand)`\n"
     ]
    },
    {
     "name": "stdout",
     "output_type": "stream",
     "text": [
      "  |================================================  |  97%"
     ]
    },
    {
     "name": "stderr",
     "output_type": "stream",
     "text": [
      "\u001b[1m\u001b[22mJoining with `by = join_by(ligand)`\n"
     ]
    },
    {
     "name": "stdout",
     "output_type": "stream",
     "text": [
      "  |================================================= |  98%"
     ]
    },
    {
     "name": "stderr",
     "output_type": "stream",
     "text": [
      "\u001b[1m\u001b[22mJoining with `by = join_by(ligand)`\n"
     ]
    },
    {
     "name": "stdout",
     "output_type": "stream",
     "text": [
      "  |==================================================| 100%"
     ]
    },
    {
     "name": "stderr",
     "output_type": "stream",
     "text": [
      "\u001b[1m\u001b[22mJoining with `by = join_by(ligand)`\n"
     ]
    },
    {
     "name": "stdout",
     "output_type": "stream",
     "text": [
      "\n"
     ]
    }
   ],
   "source": [
    "pb <- txtProgressBar(min = 0,      # Minimum value of the progress bar\n",
    "                     max = length(cell_types)^2, # Assuming you iterate through each pair\n",
    "                     style = 3,    # Progress bar style (also available style = 1 and style = 2)\n",
    "                     width = 50,   # Progress bar width. Defaults to getOption(\"width\")\n",
    "                     char = \"=\")   # Character used to create the bar\n",
    "\n",
    "i = 1\n",
    "pvat_24weeks_control_male_nichenet = list()\n",
    "\n",
    "for (source_cell in cell_types) {\n",
    "  for (target_cell in cell_types) {\n",
    "\n",
    "      key = paste(gsub(\" \", \"\", source_cell), \"2\", gsub(\" \", \"\", target_cell), sep=\"\")\n",
    "      \n",
    "      pvat_24weeks_control_male_nichenet[[key]] <- tryCatch({\n",
    "        ligand_receptor_activites(source_cell, target_cell, cell_data, nichenet_networks)\n",
    "      }, error = function(e) {\n",
    "        cat(\"Error with\", source_cell, \"to\", target_cell, \":\", e$message, \"\\n\")\n",
    "        NULL \n",
    "      })\n",
    "    \n",
    "    i = i + 1\n",
    "    setTxtProgressBar(pb, i)\n",
    "  }\n",
    "}\n",
    "close(pb)"
   ]
  },
  {
   "cell_type": "code",
   "execution_count": 19,
   "id": "a4e5cf62-3ae1-47d2-81bc-cd34187694af",
   "metadata": {},
   "outputs": [],
   "source": [
    "names_interactions <- names(pvat_24weeks_control_male_nichenet)\n",
    "for (interaction_name in names_interactions) {\n",
    "  interaction <- pvat_24weeks_control_male_nichenet[[interaction_name]]\n",
    "  \n",
    "  matrix_names <- c(\"ligand_activities\", \"p_ligand_receptor_network\", \"p_ligand_target_network\")\n",
    "  for (matrix_name in matrix_names) {\n",
    "    tryCatch({\n",
    "      if (!is.null(interaction[[matrix_name]])) {\n",
    "        interaction[[matrix_name]] <- as.data.frame(interaction[[matrix_name]])\n",
    "      }\n",
    "    }, error = function(e) {\n",
    "       cat(\"Issue converting\", matrix_name, \"in\", interaction_name, \"to a data.frame:\", e$message, \"\\n\")\n",
    "    })\n",
    "  }\n",
    "  pvat_24weeks_control_male_nichenet[[interaction_name]] <- interaction\n",
    "}"
   ]
  },
  {
   "cell_type": "code",
   "execution_count": 20,
   "id": "45f19539-4739-48b4-ba8e-3c4f75601ecc",
   "metadata": {},
   "outputs": [],
   "source": [
    "saveRDS(pvat_24weeks_control_male_nichenet ,'pvat_24weeks_control_male_nichenet.rds')"
   ]
  },
  {
   "cell_type": "code",
   "execution_count": null,
   "id": "499ec817-06e3-4fa7-b4e3-5b5c6ff5ffbc",
   "metadata": {},
   "outputs": [],
   "source": []
  },
  {
   "cell_type": "code",
   "execution_count": null,
   "id": "86fedaa4-cb26-4357-832d-a9a9ba07d3a5",
   "metadata": {},
   "outputs": [],
   "source": []
  },
  {
   "cell_type": "code",
   "execution_count": null,
   "id": "268fa546-4beb-4065-8c63-94c92635d824",
   "metadata": {},
   "outputs": [],
   "source": []
  },
  {
   "cell_type": "code",
   "execution_count": null,
   "id": "251d8514-0214-4c11-a018-cd28ef756498",
   "metadata": {},
   "outputs": [],
   "source": []
  },
  {
   "cell_type": "code",
   "execution_count": null,
   "id": "ee1f668e-0f54-46ad-8413-d3e6f672aca6",
   "metadata": {},
   "outputs": [],
   "source": []
  }
 ],
 "metadata": {
  "kernelspec": {
   "display_name": "R",
   "language": "R",
   "name": "ir"
  },
  "language_info": {
   "codemirror_mode": "r",
   "file_extension": ".r",
   "mimetype": "text/x-r-source",
   "name": "R",
   "pygments_lexer": "r",
   "version": "4.2.3"
  }
 },
 "nbformat": 4,
 "nbformat_minor": 5
}
