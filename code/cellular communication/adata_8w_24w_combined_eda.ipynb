{
 "cells": [
  {
   "cell_type": "code",
   "execution_count": 12,
   "id": "8e3b2cf0-eb30-4a3c-a424-6a746fe0e407",
   "metadata": {},
   "outputs": [],
   "source": [
    "import os\n",
    "import pandas as pd\n",
    "import numpy as np\n",
    "import scanpy as sc\n",
    "import anndata"
   ]
  },
  {
   "cell_type": "code",
   "execution_count": 13,
   "id": "e6f284cd-a433-4c17-ba3e-10da0fe98203",
   "metadata": {},
   "outputs": [
    {
     "data": {
      "text/plain": [
       "'/Users/pandavis/Desktop/lab_directory/pvat_8w_24w_data/codebase'"
      ]
     },
     "execution_count": 13,
     "metadata": {},
     "output_type": "execute_result"
    }
   ],
   "source": [
    "pwd"
   ]
  },
  {
   "cell_type": "code",
   "execution_count": 14,
   "id": "13b8a16d-8acd-477e-89d2-1621e0762fae",
   "metadata": {},
   "outputs": [
    {
     "data": {
      "text/plain": [
       "AnnData object with n_obs × n_vars = 71813 × 20743\n",
       "    obs: 'sample_id', 'n_genes_by_counts', 'log1p_n_genes_by_counts', 'total_counts', 'log1p_total_counts', 'pct_counts_in_top_20_genes', 'total_counts_mt', 'log1p_total_counts_mt', 'pct_counts_mt', 'total_counts_ribo', 'log1p_total_counts_ribo', 'pct_counts_ribo', 'total_counts_hb', 'log1p_total_counts_hb', 'pct_counts_hb', 'outlier', 'mt_outlier', 'n_genes', 'scDblFinder_score', 'scDblFinder_class', 'Sample', 'tissue', 'diet', 'time', 'sex', 'batch', 'sample_type', 'rat_id', 'weight_3W', 'weight_10W', 'weight_17W', 'weight_24W', 'MAP_7W', 'systolic_bp_7W', 'MAP_9W', 'systolic_bp_9W', 'MAP_16W', 'systolic_bp_16W', 'MAP_24W', 'systolic_bp_24W', 'doublet', 'celltype', 'celltype_broad'\n",
       "    var: 'gene_ids', 'mt', 'ribo', 'hb', 'n_cells_by_counts', 'mean_counts', 'log1p_mean_counts', 'pct_dropout_by_counts', 'total_counts', 'log1p_total_counts', 'n_cells'\n",
       "    layers: 'counts', 'raw_counts', 'soupX_counts'"
      ]
     },
     "execution_count": 14,
     "metadata": {},
     "output_type": "execute_result"
    }
   ],
   "source": [
    "adata = sc.read_h5ad('../data/taPVAT_combined_annotated_with_immune_fibro_ecs_all_genes_unnormalized.h5ad')\n",
    "adata"
   ]
  },
  {
   "cell_type": "code",
   "execution_count": 15,
   "id": "a6cc1356-29a5-40ad-bfcd-473e3aef1d75",
   "metadata": {},
   "outputs": [],
   "source": [
    "adata_copy = adata.copy()"
   ]
  },
  {
   "cell_type": "code",
   "execution_count": 16,
   "id": "7f77ef82-ad4e-4ff3-8b6c-1b66a3b5d2e5",
   "metadata": {
    "scrolled": true
   },
   "outputs": [
    {
     "data": {
      "text/plain": [
       "AAACGAACACGACGAA-1-0       PPG03 DS05 male\n",
       "AAACGCTGTATGAGGC-1-0       PPG03 DS05 male\n",
       "AAAGAACAGGGCAGGA-1-0       PPG03 DS05 male\n",
       "AAAGAACCAAATGCTC-1-0       PPG03 DS05 male\n",
       "AAAGAACGTTCGAACT-1-0       PPG03 DS05 male\n",
       "                               ...        \n",
       "TTTGTTGCACCTGCGA-1-24    PPG03 DS08 female\n",
       "TTTGTTGCACTATGTG-1-24    PPG03 DS08 female\n",
       "TTTGTTGGTAGATGTA-1-24    PPG03 DS08 female\n",
       "TTTGTTGGTTCATCTT-1-24    PPG03 DS08 female\n",
       "TTTGTTGTCTCCAATT-1-24    PPG03 DS08 female\n",
       "Name: rat_id, Length: 71813, dtype: category\n",
       "Categories (25, object): ['PPG03 DS01 male', 'PPG03 DS05 male', 'PPG03 DS08 female', 'PPG04 DS01 male', ..., 'PPG08 DS16 female', 'PPG08 DS18 female', 'PPG08 DS19 female', 'PPG08 DS20 female']"
      ]
     },
     "execution_count": 16,
     "metadata": {},
     "output_type": "execute_result"
    }
   ],
   "source": [
    "adata.obs['rat_id']"
   ]
  },
  {
   "cell_type": "code",
   "execution_count": 17,
   "id": "0e1a9031-3ae8-4d56-91d9-708a3489aff7",
   "metadata": {},
   "outputs": [
    {
     "data": {
      "text/plain": [
       "['P_CTRL_8W_M_01',\n",
       " 'P_CTRL_8W_M_02',\n",
       " 'P_CTRL_8W_M_03',\n",
       " 'P_HF_8W_M_01',\n",
       " 'P_HF_8W_M_02',\n",
       " 'P_HF_8W_M_03',\n",
       " 'P_CTRL_24W_M_01',\n",
       " 'P_CTRL_24W_M_02',\n",
       " 'P_CTRL_24W_M_03',\n",
       " 'P_HF_24W_M_01',\n",
       " 'P_HF_24W_M_02',\n",
       " 'P_HF_24W_M_03',\n",
       " 'P_CTRL_24W_F_02',\n",
       " 'P_CTRL_8W_F_01',\n",
       " 'P_CTRL_8W_F_03',\n",
       " 'P_HF_24W_F_02',\n",
       " 'P_HF_24W_F_04',\n",
       " 'P_HF_8W_F_02',\n",
       " 'P_CTRL_24W_F_01',\n",
       " 'P_CTRL_24W_F_03',\n",
       " 'P_CTRL_8W_F_02',\n",
       " 'P_HF_24W_F_01',\n",
       " 'P_HF_24W_F_03',\n",
       " 'P_HF_8W_F_01',\n",
       " 'P_HF_8W_F_03']"
      ]
     },
     "execution_count": 17,
     "metadata": {},
     "output_type": "execute_result"
    }
   ],
   "source": [
    "adata.obs['sample_id'].unique().tolist()"
   ]
  },
  {
   "cell_type": "code",
   "execution_count": 18,
   "id": "b763c250-d303-4e9d-8ad9-4111cdc4c335",
   "metadata": {},
   "outputs": [
    {
     "data": {
      "text/plain": [
       "['taPVAT']"
      ]
     },
     "execution_count": 18,
     "metadata": {},
     "output_type": "execute_result"
    }
   ],
   "source": [
    "adata.obs['tissue'].unique().tolist()"
   ]
  },
  {
   "cell_type": "code",
   "execution_count": 19,
   "id": "848c10c0-ee63-41a9-a214-92508fc79ef8",
   "metadata": {},
   "outputs": [
    {
     "data": {
      "text/plain": [
       "['M', 'F']"
      ]
     },
     "execution_count": 19,
     "metadata": {},
     "output_type": "execute_result"
    }
   ],
   "source": [
    "adata.obs['sex'].unique().tolist()"
   ]
  },
  {
   "cell_type": "code",
   "execution_count": 20,
   "id": "c5579de3-7c14-435a-bb1c-c5c00f702f41",
   "metadata": {},
   "outputs": [
    {
     "data": {
      "text/plain": [
       "['Control', 'HF']"
      ]
     },
     "execution_count": 20,
     "metadata": {},
     "output_type": "execute_result"
    }
   ],
   "source": [
    "adata.obs['diet'].unique().tolist()"
   ]
  },
  {
   "cell_type": "code",
   "execution_count": 21,
   "id": "05fd44a9-aaea-4eef-b9a0-adb8e37096b4",
   "metadata": {},
   "outputs": [
    {
     "data": {
      "text/plain": [
       "['8W', '24W']"
      ]
     },
     "execution_count": 21,
     "metadata": {},
     "output_type": "execute_result"
    }
   ],
   "source": [
    "adata.obs['time'].unique().tolist()"
   ]
  },
  {
   "cell_type": "code",
   "execution_count": 11,
   "id": "ad93ffd0-1907-4406-a7ea-5096523fd85a",
   "metadata": {},
   "outputs": [],
   "source": [
    "#sc.pp.normalize_total(adata, target_sum=1e4)\n",
    "#sc.pp.log1p(adata)"
   ]
  },
  {
   "cell_type": "code",
   "execution_count": 14,
   "id": "a3ab6031-c16a-47ca-a05a-c4bb795e18a4",
   "metadata": {},
   "outputs": [
    {
     "name": "stderr",
     "output_type": "stream",
     "text": [
      "\n",
      "KeyboardInterrupt\n",
      "\n"
     ]
    }
   ],
   "source": [
    "adata.to_df().to_csv('taPVAT_combined_annotated_with_immune_fibro_ecs_all_genes.csv')"
   ]
  },
  {
   "cell_type": "code",
   "execution_count": null,
   "id": "1653c91b-378b-4674-8493-e85b6aa328b4",
   "metadata": {},
   "outputs": [
    {
     "name": "stderr",
     "output_type": "stream",
     "text": [
      "/Users/pandavis/miniconda3/lib/python3.11/site-packages/tqdm/auto.py:21: TqdmWarning: IProgress not found. Please update jupyter and ipywidgets. See https://ipywidgets.readthedocs.io/en/stable/user_install.html\n",
      "  from .autonotebook import tqdm as notebook_tqdm\n"
     ]
    }
   ],
   "source": [
    "\n",
    "sc.pp.pca(adata)\n",
    "sc.pp.neighbors(adata)\n",
    "sc.tl.umap(adata, random_state=42)"
   ]
  },
  {
   "cell_type": "code",
   "execution_count": null,
   "id": "a2384c1c-3cd4-4939-8e34-939fff0cf368",
   "metadata": {},
   "outputs": [],
   "source": []
  },
  {
   "cell_type": "code",
   "execution_count": null,
   "id": "b797eeda-3566-4c0d-a552-ff4e5a24db23",
   "metadata": {},
   "outputs": [],
   "source": [
    "sc.pl.umap(adata, color='time')"
   ]
  },
  {
   "cell_type": "code",
   "execution_count": null,
   "id": "41aa958f-a980-4b13-968e-2bcea9ed6cc0",
   "metadata": {},
   "outputs": [],
   "source": [
    "sc.pl.umap(adata, color='diet')"
   ]
  },
  {
   "cell_type": "code",
   "execution_count": null,
   "id": "e65d39cd-f0d4-48b6-8cce-2466bb058beb",
   "metadata": {},
   "outputs": [],
   "source": [
    "sc.pl.umap(adata, color='tissue')"
   ]
  },
  {
   "cell_type": "code",
   "execution_count": 22,
   "id": "c2753ff1-a2cd-4b21-b840-3239bcff8931",
   "metadata": {},
   "outputs": [],
   "source": [
    "pvat_8weeks_adata = adata[adata.obs['time']=='8W']\n",
    "pvat_24weeks_adata = adata[adata.obs['time']=='24W']"
   ]
  },
  {
   "cell_type": "code",
   "execution_count": null,
   "id": "7068c71a-6231-4981-a242-65841f39fa95",
   "metadata": {},
   "outputs": [],
   "source": []
  },
  {
   "cell_type": "code",
   "execution_count": 23,
   "id": "c7525d41-d583-410f-afe3-a05fa5955ee8",
   "metadata": {},
   "outputs": [],
   "source": [
    "pvat_8weeks_control = pvat_8weeks_adata[pvat_8weeks_adata.obs['diet']=='Control']\n",
    "pvat_8weeks_hf = pvat_8weeks_adata[pvat_8weeks_adata.obs['diet']=='HF']"
   ]
  },
  {
   "cell_type": "code",
   "execution_count": 24,
   "id": "a61eacda-6804-40af-957c-237a90f63703",
   "metadata": {},
   "outputs": [],
   "source": [
    "pvat_8weeks_control_male = pvat_8weeks_control[pvat_8weeks_control.obs['sex']=='M']\n",
    "pvat_8weeks_control_female = pvat_8weeks_control[pvat_8weeks_control.obs['sex']=='F']"
   ]
  },
  {
   "cell_type": "code",
   "execution_count": 25,
   "id": "05873140-d2f1-4fb3-999b-bd0e2541d518",
   "metadata": {},
   "outputs": [],
   "source": [
    "pvat_8weeks_hf_male = pvat_8weeks_hf[pvat_8weeks_hf.obs['sex']=='M']\n",
    "pvat_8weeks_hf_female = pvat_8weeks_hf[pvat_8weeks_hf.obs['sex']=='F']"
   ]
  },
  {
   "cell_type": "code",
   "execution_count": 26,
   "id": "74d7a1bc-c3fb-4fd5-9a59-516ded0b86f8",
   "metadata": {},
   "outputs": [
    {
     "data": {
      "text/plain": [
       "'/Users/pandavis/Desktop/lab_directory/pvat_8w_24w_data/codebase'"
      ]
     },
     "execution_count": 26,
     "metadata": {},
     "output_type": "execute_result"
    }
   ],
   "source": [
    "pwd"
   ]
  },
  {
   "cell_type": "code",
   "execution_count": 34,
   "id": "63120e70-7e11-4dfd-afb2-f60ea0210fcf",
   "metadata": {},
   "outputs": [],
   "source": [
    "pvat_8weeks_control_male.write('pvat_8weeks_control_male.h5ad')\n",
    "pvat_8weeks_control_female.write('pvat_8weeks_control_female.h5ad')\n",
    "pvat_8weeks_hf_male.write('pvat_8weeks_hf_male.h5ad')\n",
    "pvat_8weeks_hf_female.write('pvat_8weeks_hf_female.h5ad')"
   ]
  },
  {
   "cell_type": "code",
   "execution_count": 27,
   "id": "17ff5a79-a939-4695-bc10-4d988e69d224",
   "metadata": {},
   "outputs": [],
   "source": [
    "pvat_8weeks_control_male.to_df().to_csv('pvat_8weeks_control_male_expr.csv')\n",
    "pvat_8weeks_control_male.obs.to_csv('pvat_8weeks_control_male_metadata.csv')\n",
    "\n",
    "pvat_8weeks_control_female.to_df().to_csv('pvat_8weeks_control_female_expr.csv')\n",
    "pvat_8weeks_control_female.obs.to_csv('pvat_8weeks_control_female_metadata.csv')"
   ]
  },
  {
   "cell_type": "code",
   "execution_count": 28,
   "id": "948db481-2f99-4ee5-9d2e-d56d84d7e866",
   "metadata": {},
   "outputs": [],
   "source": [
    "pvat_8weeks_hf_male.to_df().to_csv('pvat_8weeks_hf_male_expr.csv')\n",
    "pvat_8weeks_hf_male.obs.to_csv('pvat_8weeks_hf_male_metadata.csv')\n",
    "\n",
    "pvat_8weeks_hf_female.to_df().to_csv('pvat_8weeks_hf_female_expr.csv')\n",
    "pvat_8weeks_hf_female.obs.to_csv('pvat_8weeks_hf_female_metadata.csv')"
   ]
  },
  {
   "cell_type": "code",
   "execution_count": null,
   "id": "667db967-4db9-497f-abd2-3ad676e98e6f",
   "metadata": {},
   "outputs": [],
   "source": []
  },
  {
   "cell_type": "code",
   "execution_count": 29,
   "id": "d3cfbde2-e411-4c21-8d78-fe691784c584",
   "metadata": {},
   "outputs": [],
   "source": [
    "pvat_24weeks_control = pvat_24weeks_adata[pvat_24weeks_adata.obs['diet']=='Control']\n",
    "pvat_24weeks_hf = pvat_24weeks_adata[pvat_24weeks_adata.obs['diet']=='HF']"
   ]
  },
  {
   "cell_type": "code",
   "execution_count": 30,
   "id": "5285e4c9-cf69-4169-85ea-a16ba266a5df",
   "metadata": {},
   "outputs": [],
   "source": [
    "pvat_24weeks_control_male = pvat_24weeks_control[pvat_24weeks_control.obs['sex']=='M']\n",
    "pvat_24weeks_control_female = pvat_24weeks_control[pvat_24weeks_control.obs['sex']=='F']"
   ]
  },
  {
   "cell_type": "code",
   "execution_count": 31,
   "id": "c9c18062-0a4a-49b8-a975-cd9d8bf73d31",
   "metadata": {},
   "outputs": [],
   "source": [
    "pvat_24weeks_hf_male = pvat_24weeks_hf[pvat_24weeks_hf.obs['sex']=='M']\n",
    "pvat_24weeks_hf_female = pvat_24weeks_hf[pvat_24weeks_hf.obs['sex']=='F']"
   ]
  },
  {
   "cell_type": "code",
   "execution_count": 32,
   "id": "df971804-2d83-45f2-b36f-8c8dff88bf26",
   "metadata": {},
   "outputs": [],
   "source": [
    "pvat_24weeks_control_male.write('pvat_24weeks_control_male.h5ad')\n",
    "pvat_24weeks_control_female.write('pvat_24weeks_control_female.h5ad')\n",
    "pvat_24weeks_hf_male.write('pvat_24weeks_hf_male.h5ad')\n",
    "pvat_24weeks_hf_female.write('pvat_24weeks_hf_female.h5ad')"
   ]
  },
  {
   "cell_type": "code",
   "execution_count": 33,
   "id": "7bcbca0b-01f7-4929-a4a2-d4cfccaf9ed3",
   "metadata": {},
   "outputs": [],
   "source": [
    "pvat_24weeks_control_male.to_df().to_csv('pvat_24weeks_control_male_expr.csv')\n",
    "pvat_24weeks_control_male.obs.to_csv('pvat_24weeks_control_male_metadata.csv')\n",
    "\n",
    "pvat_24weeks_control_female.to_df().to_csv('pvat_24weeks_control_female_expr.csv')\n",
    "pvat_24weeks_control_female.obs.to_csv('pvat_24weeks_control_female_metadata.csv')"
   ]
  },
  {
   "cell_type": "code",
   "execution_count": 34,
   "id": "5eb1c686-50ad-4e5f-96ad-b07ce57efbbb",
   "metadata": {},
   "outputs": [],
   "source": [
    "pvat_24weeks_hf_male.to_df().to_csv('pvat_24weeks_hf_male_expr.csv')\n",
    "pvat_24weeks_hf_male.obs.to_csv('pvat_24weeks_hf_male_metadata.csv')\n",
    "\n",
    "pvat_24weeks_hf_female.to_df().to_csv('pvat_24weeks_hf_female_expr.csv')\n",
    "pvat_24weeks_hf_female.obs.to_csv('pvat_24weeks_hf_female_metadata.csv')"
   ]
  },
  {
   "cell_type": "code",
   "execution_count": null,
   "id": "6120ca26-f709-47fa-86c3-9b785a5a12a8",
   "metadata": {},
   "outputs": [],
   "source": []
  },
  {
   "cell_type": "code",
   "execution_count": null,
   "id": "7d5805f4-07b2-4089-9992-4a9967416b79",
   "metadata": {},
   "outputs": [],
   "source": []
  },
  {
   "cell_type": "code",
   "execution_count": null,
   "id": "57db807e-7573-4255-bd68-4dab480e2b1b",
   "metadata": {},
   "outputs": [],
   "source": []
  }
 ],
 "metadata": {
  "kernelspec": {
   "display_name": "Python 3 (ipykernel)",
   "language": "python",
   "name": "python3"
  },
  "language_info": {
   "codemirror_mode": {
    "name": "ipython",
    "version": 3
   },
   "file_extension": ".py",
   "mimetype": "text/x-python",
   "name": "python",
   "nbconvert_exporter": "python",
   "pygments_lexer": "ipython3",
   "version": "3.11.9"
  }
 },
 "nbformat": 4,
 "nbformat_minor": 5
}
